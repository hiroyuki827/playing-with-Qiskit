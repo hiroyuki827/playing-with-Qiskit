{
 "cells": [
  {
   "cell_type": "markdown",
   "metadata": {},
   "source": [
    "# IBM QISKitノート"
   ]
  },
  {
   "cell_type": "markdown",
   "metadata": {},
   "source": [
    "このノートでは、IBMによって公開された量子コンピュータのAPI「QISKit」を用いた計算についてまとめています。詳しい量子コンピュータの原理についてはまとめていません。(私自身物理を学んでいる身なので、興味が湧けば追記するかも？) その代わり、Qiitaで初等的なよい例を見つけたので、それをコーディングとしてどう実装するかについて幾つかの例を挙げました。\n",
    "\n",
    "このノートを実行するためにはいくつかのステップが必要です。以下の通り準備を行ってから始めてください。"
   ]
  },
  {
   "cell_type": "markdown",
   "metadata": {},
   "source": [
    "## コードを使うまでにやるべきこと"
   ]
  },
  {
   "cell_type": "markdown",
   "metadata": {},
   "source": [
    "1. IBM QuantumExperienceパッケージをpipでダウンロード&インストールする: `pip install --upgrade IBMQuantumExperience` もしくは `pip3 install --upgrade IBMQuantumExperience`\n",
    "\n",
    "2. 作業ディレクトリを作成し, `git clone git clone https://github.com/IBM/qiskit-sdk-py`する。\n",
    "\n",
    "3. その中の`giskit-sdk-py`ディレクトリに移動し、`make run`で`jupyter notebook`. これで「tutorial内で」jupyterを起動できるようになる.\n",
    "\n",
    "4. `cp tutorial/Qconfig.py.default Qconfig.py`を実行し、Qconfig.pyを作成する。ここで、別途[こちら](https://quantumexperience.ng.bluemix.net/qx/user-guide) でアカウントを作成し、Personal tokenを取得する。これを`Qconfig.py`の所定の欄（コメントアウトしているものを外して\"\"内）に入れる。"
   ]
  },
  {
   "cell_type": "markdown",
   "metadata": {},
   "source": [
    "## Step1: プログラムを作成する"
   ]
  },
  {
   "cell_type": "code",
   "execution_count": 1,
   "metadata": {
    "collapsed": true
   },
   "outputs": [],
   "source": [
    "# jupyterはtutorial内で起動するため、qiskitパッケージをインポートするためにディレクトリの階層を一つ上げる必要がある。\n",
    "import sys\n",
    "sys.path.append(\"../\") \n",
    "\n",
    "from qiskit import QuantumProgram \n",
    "import Qconfig"
   ]
  },
  {
   "cell_type": "markdown",
   "metadata": {},
   "source": [
    "プログラムの主なパートとして\n",
    "- QuantumProgram\n",
    "- a Circuit\n",
    "- a Quantum Register\n",
    "- a Classical Register\n",
    "\n",
    "がある。これらを作成する。"
   ]
  },
  {
   "cell_type": "code",
   "execution_count": 2,
   "metadata": {},
   "outputs": [
    {
     "name": "stdout",
     "output_type": "stream",
     "text": [
      ">> quantum_registers created: qr 4\n",
      ">> classical_registers created: cr 4\n"
     ]
    }
   ],
   "source": [
    "# QuantumProgramクラスのメソッドとしてQ_program作成\n",
    "Q_program = QuantumProgram() \n",
    "\n",
    "# レジスタの作成. Qbitと名称を指定\n",
    "# 2Qbitを持つレジスタqr (量子的)\n",
    "Q_program.create_quantum_registers(\"qr\", 4)\n",
    "# 2bitを持つレジスタcr (古典的)\n",
    "Q_program.create_classical_registers(\"cr\", 4) \n",
    "\n",
    "# 回路 \"qc\" の作成\n",
    "# 古典的なレジスタ \"cr\"と 量子的なレジスタ \"qr\" をつなげた回路\n",
    "qc = Q_program.create_circuit(\"qc\", [\"qr\"], [\"cr\"]) "
   ]
  },
  {
   "cell_type": "markdown",
   "metadata": {},
   "source": [
    "==> 各レジスタが作成された。これらの作業は以下のようにも書ける:"
   ]
  },
  {
   "cell_type": "code",
   "execution_count": 3,
   "metadata": {
    "collapsed": true
   },
   "outputs": [],
   "source": [
    "Q_SPECS = {\n",
    "    \"name\": \"Program-tutorial\",\n",
    "    \"circuits\": [{\n",
    "         \"name\": \"Circuit\",\n",
    "         \"quantum_registers\": [{\n",
    "             \"name\":\"qr\",\n",
    "             \"size\": 4 \n",
    "         }],\n",
    "         \"classical_registers\": [{\n",
    "              \"name\":\"cr\",\n",
    "              \"size\": 4\n",
    "         }]}],\n",
    "}"
   ]
  },
  {
   "cell_type": "markdown",
   "metadata": {},
   "source": [
    "これを用いてクラス`QuantumProgram`のインスタンス変数を初期化する:"
   ]
  },
  {
   "cell_type": "code",
   "execution_count": 4,
   "metadata": {},
   "outputs": [
    {
     "name": "stdout",
     "output_type": "stream",
     "text": [
      ">> quantum_registers created: qr 4\n",
      ">> classical_registers created: cr 4\n"
     ]
    }
   ],
   "source": [
    "Q_program = QuantumProgram(specs=Q_SPECS) "
   ]
  },
  {
   "cell_type": "markdown",
   "metadata": {},
   "source": [
    "上では全体の回路を`Q_SPEC`としてまとめたが、各要素（レジスタ単位、回路単位）でまとめることもできる。"
   ]
  },
  {
   "cell_type": "code",
   "execution_count": 5,
   "metadata": {},
   "outputs": [],
   "source": [
    "#get the components.\n",
    "\n",
    "# get the circuit by Name\n",
    "circuit = Q_program.get_circuit(\"Circuit\")\n",
    "\n",
    "# get the Quantum Register by Name\n",
    "quantum_r = Q_program.get_quantum_registers(\"qr\")\n",
    "\n",
    "# get the Classical Register by Name\n",
    "classical_r = Q_program.get_classical_registers('cr')"
   ]
  },
  {
   "cell_type": "markdown",
   "metadata": {},
   "source": [
    "## Step2: 回路にゲートを追加する"
   ]
  },
  {
   "cell_type": "markdown",
   "metadata": {
    "collapsed": true
   },
   "source": [
    "以降は[「量子コンピュータで1+1を計算する」](http://qiita.com/kjtnk/items/8385052a50e3154d1022)　をベースにして計算させてみる。\n",
    "\n",
    "まずは0+0を計算させよう. これまでやってきたようにレジスタを持つ回路を作成したら、`circuit`インスタンスにいろいろ「ゲート」を追加できる。量子コンピュータでは0+0は以下のように組めば良い.\n",
    "\n",
    "<img src='0+0.png'/>"
   ]
  },
  {
   "cell_type": "code",
   "execution_count": 6,
   "metadata": {},
   "outputs": [
    {
     "name": "stdout",
     "output_type": "stream",
     "text": [
      "OPENQASM 2.0;\n",
      "include \"qelib1.inc\";\n",
      "qreg qr[4];\n",
      "creg cr[4];\n",
      "ccx qr[0],qr[1],qr[2];\n",
      "cx qr[0],qr[3];\n",
      "cx qr[1],qr[3];\n",
      "measure qr[0] -> cr[3];\n",
      "measure qr[1] -> cr[2];\n",
      "measure qr[2] -> cr[1];\n",
      "measure qr[3] -> cr[0];\n",
      "\n"
     ]
    }
   ],
   "source": [
    "# AND gate from Qbit 0 to the Qbit 1 and 2\n",
    "circuit.ccx(quantum_r[0], quantum_r[1], quantum_r[2])\n",
    "\n",
    "# XOR gate from Qbit 0 to the Qbit 3\n",
    "circuit.cx(quantum_r[0], quantum_r[3])\n",
    "\n",
    "# XOR gate from Qbit 1 to the Qbit 3\n",
    "circuit.cx(quantum_r[1], quantum_r[3])\n",
    "\n",
    "# measure gate from the Qbit 0 to Classical bit 3\n",
    "circuit.measure(quantum_r[0], classical_r[3]) \n",
    "\n",
    "# measure gate from the Qbit 1 to Classical bit 2\n",
    "circuit.measure(quantum_r[1], classical_r[2])\n",
    "\n",
    "# measure gate from the Qbit 2 to Classical bit 1\n",
    "circuit.measure(quantum_r[2], classical_r[1]) \n",
    "\n",
    "# measure gate from the Qbit 3 to Classical bit 0\n",
    "circuit.measure(quantum_r[3], classical_r[0]) \n",
    "\n",
    "QASM_source = Q_program.get_qasm(\"Circuit\")\n",
    "\n",
    "print(QASM_source)"
   ]
  },
  {
   "cell_type": "markdown",
   "metadata": {},
   "source": [
    "## Step3: コードの実行"
   ]
  },
  {
   "cell_type": "code",
   "execution_count": 15,
   "metadata": {},
   "outputs": [
    {
     "data": {
      "text/plain": [
       "True"
      ]
     },
     "execution_count": 15,
     "metadata": {},
     "output_type": "execute_result"
    }
   ],
   "source": [
    "device = 'simulator' #Backed where execute your program, in this case in the on line simulator \n",
    "circuits = ['Circuit'] #Group of circuits to exec \n",
    "\n",
    "Q_program.set_api(Qconfig.APItoken, Qconfig.config[\"url\"]) \n",
    "#set the APIToken and API url "
   ]
  },
  {
   "cell_type": "code",
   "execution_count": 16,
   "metadata": {},
   "outputs": [
    {
     "name": "stdout",
     "output_type": "stream",
     "text": [
      "running on backend: simulator\n",
      "{'status': 'COMPLETED', 'result': 'all done'}\n"
     ]
    }
   ],
   "source": [
    "Q_program.compile(circuits, device) # Compile your program\n",
    "\n",
    "result = Q_program.run(wait=2, timeout=240)\n",
    "\n",
    "print(result)"
   ]
  },
  {
   "cell_type": "code",
   "execution_count": 17,
   "metadata": {},
   "outputs": [
    {
     "data": {
      "text/plain": [
       "{'0000': 1024}"
      ]
     },
     "execution_count": 17,
     "metadata": {},
     "output_type": "execute_result"
    }
   ],
   "source": [
    "Q_program.get_counts(\"Circuit\")"
   ]
  },
  {
   "cell_type": "markdown",
   "metadata": {},
   "source": [
    "ここで`'0000'`というのは、0+0=00を表している。量子レジスタは4つ用意されているので、その値が古典レジスタの値に入り、0000を出力している。"
   ]
  },
  {
   "cell_type": "markdown",
   "metadata": {},
   "source": [
    "### 全体のコード"
   ]
  },
  {
   "cell_type": "code",
   "execution_count": 4,
   "metadata": {},
   "outputs": [
    {
     "name": "stdout",
     "output_type": "stream",
     "text": [
      ">> quantum_registers created: qr 4\n",
      ">> classical_registers created: cr 4\n",
      "OPENQASM 2.0;\n",
      "include \"qelib1.inc\";\n",
      "qreg qr[4];\n",
      "creg cr[4];\n",
      "ccx qr[0],qr[1],qr[2];\n",
      "cx qr[0],qr[3];\n",
      "cx qr[1],qr[3];\n",
      "measure qr[0] -> cr[3];\n",
      "measure qr[1] -> cr[2];\n",
      "measure qr[2] -> cr[1];\n",
      "measure qr[3] -> cr[0];\n",
      "\n",
      "running on backend: simulator\n",
      "{'status': 'COMPLETED', 'result': 'all done'}\n"
     ]
    },
    {
     "data": {
      "text/plain": [
       "{'0000': 1024}"
      ]
     },
     "execution_count": 4,
     "metadata": {},
     "output_type": "execute_result"
    }
   ],
   "source": [
    "# jupyterはtutorial内で起動するため、qiskitパッケージをインポートするためにディレクトリの階層を一つ上げる必要がある。\n",
    "import sys\n",
    "sys.path.append(\"../\") \n",
    "\n",
    "from qiskit import QuantumProgram \n",
    "import Qconfig\n",
    "\n",
    "Q_SPECS = {\n",
    "    \"name\": \"Program-tutorial\",\n",
    "    \"circuits\": [{\n",
    "         \"name\": \"Circuit\",\n",
    "         \"quantum_registers\": [{\n",
    "             \"name\":\"qr\",\n",
    "             \"size\": 4 \n",
    "         }],\n",
    "         \"classical_registers\": [{\n",
    "              \"name\":\"cr\",\n",
    "              \"size\": 4\n",
    "         }]}],\n",
    "}\n",
    "\n",
    "Q_program = QuantumProgram(specs=Q_SPECS)\n",
    "\n",
    "# get the circuit by Name\n",
    "circuit = Q_program.get_circuit(\"Circuit\")\n",
    "\n",
    "# get the Quantum Register by Name\n",
    "quantum_r = Q_program.get_quantum_registers(\"qr\")\n",
    "\n",
    "# get the Classical Register by Name\n",
    "classical_r = Q_program.get_classical_registers('cr')\n",
    "\n",
    "\n",
    "# ----------------------------------------------\n",
    "# Create circuit: 0 + 0\n",
    "# ----------------------------------------------\n",
    "\n",
    "# AND gate from Qbit 0 to the Qbit 1 and 2\n",
    "circuit.ccx(quantum_r[0], quantum_r[1], quantum_r[2])\n",
    "\n",
    "# XOR gate from Qbit 0 to the Qbit 3\n",
    "circuit.cx(quantum_r[0], quantum_r[3])\n",
    "\n",
    "# XOR gate from Qbit 1 to the Qbit 3\n",
    "circuit.cx(quantum_r[1], quantum_r[3])\n",
    "\n",
    "# measure gate from the Qbit 0 to Classical bit 3\n",
    "circuit.measure(quantum_r[0], classical_r[3]) \n",
    "\n",
    "# measure gate from the Qbit 1 to Classical bit 2\n",
    "circuit.measure(quantum_r[1], classical_r[2])\n",
    "\n",
    "# measure gate from the Qbit 2 to Classical bit 1\n",
    "circuit.measure(quantum_r[2], classical_r[1]) \n",
    "\n",
    "# measure gate from the Qbit 3 to Classical bit 0\n",
    "circuit.measure(quantum_r[3], classical_r[0]) \n",
    "\n",
    "QASM_source = Q_program.get_qasm(\"Circuit\")\n",
    "\n",
    "print(QASM_source)\n",
    "\n",
    "# ----------------------------------------------\n",
    "# Output\n",
    "# ----------------------------------------------\n",
    "\n",
    "device = 'simulator' #Backed where execute your program, in this case in the on line simulator \n",
    "circuits = ['Circuit'] #Group of circuits to exec \n",
    "\n",
    "Q_program.set_api(Qconfig.APItoken, Qconfig.config[\"url\"]) \n",
    "#set the APIToken and API url \n",
    "\n",
    "Q_program.compile(circuits, device) # Compile your program\n",
    "\n",
    "result = Q_program.run(wait=2, timeout=240)\n",
    "\n",
    "print(result)\n",
    "\n",
    "Q_program.get_counts(\"Circuit\")"
   ]
  },
  {
   "cell_type": "markdown",
   "metadata": {},
   "source": [
    "## そのほかの例\n",
    "\n",
    "### 1+0"
   ]
  },
  {
   "cell_type": "markdown",
   "metadata": {},
   "source": [
    "<img src='1+0.png'/>\n",
    "\n",
    "※画像は上記のQiitaの記事より引用"
   ]
  },
  {
   "cell_type": "code",
   "execution_count": 5,
   "metadata": {},
   "outputs": [
    {
     "name": "stdout",
     "output_type": "stream",
     "text": [
      ">> quantum_registers created: qr 4\n",
      ">> classical_registers created: cr 4\n",
      "OPENQASM 2.0;\n",
      "include \"qelib1.inc\";\n",
      "qreg qr[4];\n",
      "creg cr[4];\n",
      "x qr[0];\n",
      "ccx qr[0],qr[1],qr[2];\n",
      "cx qr[0],qr[3];\n",
      "cx qr[1],qr[3];\n",
      "measure qr[0] -> cr[3];\n",
      "measure qr[1] -> cr[2];\n",
      "measure qr[2] -> cr[1];\n",
      "measure qr[3] -> cr[0];\n",
      "\n",
      "running on backend: simulator\n",
      "{'status': 'COMPLETED', 'result': 'all done'}\n"
     ]
    },
    {
     "data": {
      "text/plain": [
       "{'1001': 1024}"
      ]
     },
     "execution_count": 5,
     "metadata": {},
     "output_type": "execute_result"
    }
   ],
   "source": [
    "# jupyterはtutorial内で起動するため、qiskitパッケージをインポートするためにディレクトリの階層を一つ上げる必要がある。\n",
    "import sys\n",
    "sys.path.append(\"../\") \n",
    "\n",
    "from qiskit import QuantumProgram \n",
    "import Qconfig\n",
    "\n",
    "Q_SPECS = {\n",
    "    \"name\": \"Program-tutorial\",\n",
    "    \"circuits\": [{\n",
    "         \"name\": \"Circuit\",\n",
    "         \"quantum_registers\": [{\n",
    "             \"name\":\"qr\",\n",
    "             \"size\": 4 \n",
    "         }],\n",
    "         \"classical_registers\": [{\n",
    "              \"name\":\"cr\",\n",
    "              \"size\": 4\n",
    "         }]}],\n",
    "}\n",
    "\n",
    "Q_program = QuantumProgram(specs=Q_SPECS)\n",
    "\n",
    "# get the circuit by Name\n",
    "circuit = Q_program.get_circuit(\"Circuit\")\n",
    "\n",
    "# get the Quantum Register by Name\n",
    "quantum_r = Q_program.get_quantum_registers(\"qr\")\n",
    "\n",
    "# get the Classical Register by Name\n",
    "classical_r = Q_program.get_classical_registers('cr')\n",
    "\n",
    "\n",
    "# ----------------------------------------------\n",
    "# Create circuit: 1 + 0\n",
    "# ----------------------------------------------\n",
    "\n",
    "# bit-flip 0 -> 1\n",
    "circuit.x(quantum_r[0])\n",
    "\n",
    "# AND gate from Qbit 0 to the Qbit 1 and 2\n",
    "circuit.ccx(quantum_r[0], quantum_r[1], quantum_r[2])\n",
    "\n",
    "# XOR gate from Qbit 0 to the Qbit 3\n",
    "circuit.cx(quantum_r[0], quantum_r[3])\n",
    "\n",
    "# XOR gate from Qbit 1 to the Qbit 3\n",
    "circuit.cx(quantum_r[1], quantum_r[3])\n",
    "\n",
    "# measure gate from the Qbit 0 to Classical bit 3\n",
    "circuit.measure(quantum_r[0], classical_r[3]) \n",
    "\n",
    "# measure gate from the Qbit 1 to Classical bit 2\n",
    "circuit.measure(quantum_r[1], classical_r[2])\n",
    "\n",
    "# measure gate from the Qbit 2 to Classical bit 1\n",
    "circuit.measure(quantum_r[2], classical_r[1]) \n",
    "\n",
    "# measure gate from the Qbit 3 to Classical bit 0\n",
    "circuit.measure(quantum_r[3], classical_r[0]) \n",
    "\n",
    "QASM_source = Q_program.get_qasm(\"Circuit\")\n",
    "\n",
    "print(QASM_source)\n",
    "\n",
    "# ----------------------------------------------\n",
    "# Output\n",
    "# ----------------------------------------------\n",
    "\n",
    "device = 'simulator' #Backed where execute your program, in this case in the on line simulator \n",
    "circuits = ['Circuit'] #Group of circuits to exec \n",
    "\n",
    "Q_program.set_api(Qconfig.APItoken, Qconfig.config[\"url\"]) \n",
    "#set the APIToken and API url \n",
    "\n",
    "Q_program.compile(circuits, device) # Compile your program\n",
    "\n",
    "result = Q_program.run(wait=2, timeout=240)\n",
    "\n",
    "print(result)\n",
    "\n",
    "Q_program.get_counts(\"Circuit\")"
   ]
  },
  {
   "cell_type": "markdown",
   "metadata": {},
   "source": [
    "`1 + 0 = 01`となり、1+0=1が計算できている。1024は2の10乗なので、2の冪が10になれば100%かな？違いは回路作成の最初に`quantum_r[0]`に対してビット反転`x`を施したことにある。先の例(0+0=00)では、何も入力されていない状態=0であったのが、今回は反転により`1`になっていた。結果としてこの理屈で計算を進めると、ほしい結果が得られた。"
   ]
  },
  {
   "cell_type": "markdown",
   "metadata": {},
   "source": [
    "### 1+1"
   ]
  },
  {
   "cell_type": "markdown",
   "metadata": {},
   "source": [
    "<img src='1+1.png'/>"
   ]
  },
  {
   "cell_type": "code",
   "execution_count": 2,
   "metadata": {},
   "outputs": [
    {
     "name": "stdout",
     "output_type": "stream",
     "text": [
      ">> quantum_registers created: qr 4\n",
      ">> classical_registers created: cr 4\n",
      "OPENQASM 2.0;\n",
      "include \"qelib1.inc\";\n",
      "qreg qr[4];\n",
      "creg cr[4];\n",
      "x qr[0];\n",
      "x qr[1];\n",
      "ccx qr[0],qr[1],qr[2];\n",
      "cx qr[0],qr[3];\n",
      "cx qr[1],qr[3];\n",
      "measure qr[0] -> cr[3];\n",
      "measure qr[1] -> cr[2];\n",
      "measure qr[2] -> cr[1];\n",
      "measure qr[3] -> cr[0];\n",
      "\n",
      "running on backend: simulator\n",
      "{'status': 'COMPLETED', 'result': 'all done'}\n"
     ]
    },
    {
     "data": {
      "text/plain": [
       "{'1110': 1024}"
      ]
     },
     "execution_count": 2,
     "metadata": {},
     "output_type": "execute_result"
    }
   ],
   "source": [
    "# jupyterはtutorial内で起動するため、qiskitパッケージをインポートするためにディレクトリの階層を一つ上げる必要がある。\n",
    "import sys\n",
    "sys.path.append(\"../\") \n",
    "\n",
    "from qiskit import QuantumProgram \n",
    "import Qconfig\n",
    "\n",
    "Q_SPECS = {\n",
    "    \"name\": \"Program-tutorial\",\n",
    "    \"circuits\": [{\n",
    "         \"name\": \"Circuit\",\n",
    "         \"quantum_registers\": [{\n",
    "             \"name\":\"qr\",\n",
    "             \"size\": 4 \n",
    "         }],\n",
    "         \"classical_registers\": [{\n",
    "              \"name\":\"cr\",\n",
    "              \"size\": 4\n",
    "         }]}],\n",
    "}\n",
    "\n",
    "Q_program = QuantumProgram(specs=Q_SPECS)\n",
    "\n",
    "# get the circuit by Name\n",
    "circuit = Q_program.get_circuit(\"Circuit\")\n",
    "\n",
    "# get the Quantum Register by Name\n",
    "quantum_r = Q_program.get_quantum_registers(\"qr\")\n",
    "\n",
    "# get the Classical Register by Name\n",
    "classical_r = Q_program.get_classical_registers('cr')\n",
    "\n",
    "# ----------------------------------------------\n",
    "# Create circuit: 1 + 1\n",
    "# ----------------------------------------------\n",
    "\n",
    "# bit-flip 0 -> 1 at Qbit 0\n",
    "circuit.x(quantum_r[0])\n",
    "\n",
    "# bit-flip 0 -> 1 at Qbit 1\n",
    "circuit.x(quantum_r[1])\n",
    "\n",
    "# AND gate from Qbit 0 to the Qbit 1 and 2\n",
    "circuit.ccx(quantum_r[0], quantum_r[1], quantum_r[2])\n",
    "\n",
    "# XOR gate from Qbit 0 to the Qbit 3\n",
    "circuit.cx(quantum_r[0], quantum_r[3])\n",
    "\n",
    "# XOR gate from Qbit 1 to the Qbit 3\n",
    "circuit.cx(quantum_r[1], quantum_r[3])\n",
    "\n",
    "# measure gate from the Qbit 0 to Classical bit 3\n",
    "circuit.measure(quantum_r[0], classical_r[3]) \n",
    "\n",
    "# measure gate from the Qbit 1 to Classical bit 2\n",
    "circuit.measure(quantum_r[1], classical_r[2])\n",
    "\n",
    "# measure gate from the Qbit 2 to Classical bit 1\n",
    "circuit.measure(quantum_r[2], classical_r[1]) \n",
    "\n",
    "# measure gate from the Qbit 3 to Classical bit 0\n",
    "circuit.measure(quantum_r[3], classical_r[0]) \n",
    "\n",
    "QASM_source = Q_program.get_qasm(\"Circuit\")\n",
    "\n",
    "print(QASM_source)\n",
    "\n",
    "# ----------------------------------------------\n",
    "# Output\n",
    "# ----------------------------------------------\n",
    "\n",
    "device = 'simulator' #Backed where execute your program, in this case in the on line simulator \n",
    "circuits = ['Circuit'] #Group of circuits to exec \n",
    "\n",
    "Q_program.set_api(Qconfig.APItoken, Qconfig.config[\"url\"]) \n",
    "#set the APIToken and API url \n",
    "\n",
    "Q_program.compile(circuits, device) # Compile your program\n",
    "\n",
    "result = Q_program.run(wait=2, timeout=240)\n",
    "\n",
    "print(result)\n",
    "\n",
    "Q_program.get_counts(\"Circuit\")"
   ]
  },
  {
   "cell_type": "markdown",
   "metadata": {},
   "source": [
    "=> 1 + 1 = 10 (10は10進数で2) となり、1+1=2が計算できた。"
   ]
  },
  {
   "cell_type": "markdown",
   "metadata": {},
   "source": [
    "## 一回で 0 + 0, 1 + 0, 1 + 1を計算する"
   ]
  },
  {
   "cell_type": "markdown",
   "metadata": {},
   "source": [
    "<img src='00+01+11.png'/>"
   ]
  },
  {
   "cell_type": "code",
   "execution_count": 1,
   "metadata": {},
   "outputs": [
    {
     "name": "stdout",
     "output_type": "stream",
     "text": [
      ">> quantum_registers created: qr 4\n",
      ">> classical_registers created: cr 4\n",
      "OPENQASM 2.0;\n",
      "include \"qelib1.inc\";\n",
      "qreg qr[4];\n",
      "creg cr[4];\n",
      "h qr[0];\n",
      "h qr[1];\n",
      "ccx qr[0],qr[1],qr[2];\n",
      "cx qr[0],qr[3];\n",
      "cx qr[1],qr[3];\n",
      "measure qr[0] -> cr[3];\n",
      "measure qr[1] -> cr[2];\n",
      "measure qr[2] -> cr[1];\n",
      "measure qr[3] -> cr[0];\n",
      "\n",
      "running on backend: simulator\n",
      "{'status': 'COMPLETED', 'result': 'all done'}\n"
     ]
    },
    {
     "data": {
      "text/plain": [
       "{'0000': 233, '0101': 238, '1001': 289, '1110': 264}"
      ]
     },
     "execution_count": 1,
     "metadata": {},
     "output_type": "execute_result"
    }
   ],
   "source": [
    "# jupyterはtutorial内で起動するため、qiskitパッケージをインポートするためにディレクトリの階層を一つ上げる必要がある。\n",
    "import sys\n",
    "sys.path.append(\"../\") \n",
    "\n",
    "from qiskit import QuantumProgram \n",
    "import Qconfig\n",
    "\n",
    "Q_SPECS = {\n",
    "    \"name\": \"Program-tutorial\",\n",
    "    \"circuits\": [{\n",
    "         \"name\": \"Circuit\",\n",
    "         \"quantum_registers\": [{\n",
    "             \"name\":\"qr\",\n",
    "             \"size\": 4 \n",
    "         }],\n",
    "         \"classical_registers\": [{\n",
    "              \"name\":\"cr\",\n",
    "              \"size\": 4\n",
    "         }]}],\n",
    "}\n",
    "\n",
    "Q_program = QuantumProgram(specs=Q_SPECS)\n",
    "\n",
    "# get the circuit by Name\n",
    "circuit = Q_program.get_circuit(\"Circuit\")\n",
    "\n",
    "# get the Quantum Register by Name\n",
    "quantum_r = Q_program.get_quantum_registers(\"qr\")\n",
    "\n",
    "# get the Classical Register by Name\n",
    "classical_r = Q_program.get_classical_registers('cr')\n",
    "\n",
    "# ----------------------------------------------\n",
    "# Create circuit: 1 + 1\n",
    "# ----------------------------------------------\n",
    "\n",
    "# bit-flip 0 -> 1 at Qbit 0\n",
    "circuit.h(quantum_r[0])\n",
    "\n",
    "# bit-flip 0 -> 1 at Qbit 1\n",
    "circuit.h(quantum_r[1])\n",
    "\n",
    "# AND gate from Qbit 0 to the Qbit 1 and 2\n",
    "circuit.ccx(quantum_r[0], quantum_r[1], quantum_r[2])\n",
    "\n",
    "# XOR gate from Qbit 0 to the Qbit 3\n",
    "circuit.cx(quantum_r[0], quantum_r[3])\n",
    "\n",
    "# XOR gate from Qbit 1 to the Qbit 3\n",
    "circuit.cx(quantum_r[1], quantum_r[3])\n",
    "\n",
    "# measure gate from the Qbit 0 to Classical bit 3\n",
    "circuit.measure(quantum_r[0], classical_r[3]) \n",
    "\n",
    "# measure gate from the Qbit 1 to Classical bit 2\n",
    "circuit.measure(quantum_r[1], classical_r[2])\n",
    "\n",
    "# measure gate from the Qbit 2 to Classical bit 1\n",
    "circuit.measure(quantum_r[2], classical_r[1]) \n",
    "\n",
    "# measure gate from the Qbit 3 to Classical bit 0\n",
    "circuit.measure(quantum_r[3], classical_r[0]) \n",
    "\n",
    "QASM_source = Q_program.get_qasm(\"Circuit\")\n",
    "\n",
    "print(QASM_source)\n",
    "\n",
    "# ----------------------------------------------\n",
    "# Output\n",
    "# ----------------------------------------------\n",
    "\n",
    "device = 'simulator' #Backed where execute your program, in this case in the on line simulator \n",
    "circuits = ['Circuit'] #Group of circuits to exec \n",
    "\n",
    "Q_program.set_api(Qconfig.APItoken, Qconfig.config[\"url\"]) \n",
    "#set the APIToken and API url \n",
    "\n",
    "Q_program.compile(circuits, device) # Compile your program\n",
    "\n",
    "result = Q_program.run(wait=2, timeout=240)\n",
    "\n",
    "print(result)\n",
    "\n",
    "Q_program.get_counts(\"Circuit\")"
   ]
  },
  {
   "cell_type": "markdown",
   "metadata": {},
   "source": [
    "となり、各結果が計算できました。このコードでは、先程の`circuit.x`の代わりに`circuit.h`を用いて、`quantum_r[0]`と`quantum_r[1]`の重ね合わせの状態を使いました。"
   ]
  }
 ],
 "metadata": {
  "kernelspec": {
   "display_name": "Python 3",
   "language": "python",
   "name": "python3"
  },
  "language_info": {
   "codemirror_mode": {
    "name": "ipython",
    "version": 3
   },
   "file_extension": ".py",
   "mimetype": "text/x-python",
   "name": "python",
   "nbconvert_exporter": "python",
   "pygments_lexer": "ipython3",
   "version": "3.6.1"
  }
 },
 "nbformat": 4,
 "nbformat_minor": 2
}
