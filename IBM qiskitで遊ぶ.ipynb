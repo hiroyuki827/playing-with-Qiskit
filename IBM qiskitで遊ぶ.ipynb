{
 "cells": [
  {
   "cell_type": "markdown",
   "metadata": {},
   "source": [
    "# IBM QISKitで遊ぶ"
   ]
  },
  {
   "cell_type": "markdown",
   "metadata": {},
   "source": [
    "このノートでは、IBMによって公開された量子コンピュータのSDK「QISKit」を用いた計算についてまとめています。詳しい量子コンピュータの原理についてはまとめていません。(私自身物理を学んでいる身なので、興味が湧けば追記するかも？) その代わり、Qiitaで初等的なよい例を見つけたので、それをコーディングとしてどう実装するかについて幾つかの例を挙げました。\n",
    "\n",
    "このノートを実行するためにはいくつかのステップが必要です。以下の通り準備を行ってから始めてください。\n",
    "\n",
    "(参考文献)\n",
    "\n",
    "- [量子コンピュータで1+1を計算する](http://qiita.com/kjtnk/items/8385052a50e3154d1022) [Japanese]\n",
    "- [IBM Q experience library](https://quantumexperience.ng.bluemix.net/qx/user-guide)\n",
    "- [A developer’s guide to using the Quantum QISKit SDK](https://developer.ibm.com/code/2017/05/17/developers-guide-to-quantum-qiskit-sdk/)"
   ]
  },
  {
   "cell_type": "markdown",
   "metadata": {},
   "source": [
    "## はじめにやるべきこと"
   ]
  },
  {
   "cell_type": "markdown",
   "metadata": {},
   "source": [
    "1. IBM QuantumExperienceパッケージをpipでダウンロード&インストールする: \n",
    "\n",
    "`pip install --upgrade IBMQuantumExperience` \n",
    "\n",
    "もしくは \n",
    "\n",
    "`pip3 install --upgrade IBMQuantumExperience`\n",
    "\n",
    "2. 作業ディレクトリを作成し, \n",
    "\n",
    "`git clone git clone https://github.com/IBM/qiskit-sdk-py`\n",
    "\n",
    "3. `make run`してAnacondaの仮想環境を作成する。\n",
    "\n",
    "4. 作業ディレクトリの`giskit-sdk-py`ディレクトリに移動し、`make run`で`jupyter notebook`が起動する. これで「tutorial内で」jupyterを起動できるようになる。この際必要なSDKはすべて読み込まれている。\n",
    "\n",
    "5. `cp tutorial/Qconfig.py.default Qconfig.py`を実行し、Qconfig.pyを作成する。ここで、別途[こちら](https://quantumexperience.ng.bluemix.net/qx/user-guide) でアカウントを作成し、Personal tokenを取得する。これを`Qconfig.py`の所定の欄に入れる。\n",
    "\n",
    "*アカウント作成の際の注意*\n",
    "\n",
    "**使用目的**\n",
    "- 以下の２つの欄は適当に答えれば良いかも。別にほんとうの意味での研究目的じゃなくても構わない.\n",
    "![](./register.png)\n",
    "\n",
    "**Personal token**\n",
    "以下の画像は私の場合です。\n",
    "![](Personal_token.png)\n",
    "\n",
    "一回生成させたら、それを`Qconfig.py`の\n",
    "\n",
    "```\n",
    "# Before you can use the jobs API, you need to set up an access token.\n",
    "# Log in to the Quantum Experience. Under \"Account\", generate a personal \n",
    "# access token. Replace \"None\" below with the quoted token string.\n",
    "# Uncomment the APItoken variable, and you will be ready to go.\n",
    "\n",
    "APItoken = \"\" # この中に入れる。\n",
    "\n",
    "config = {\n",
    "  \"url\": 'https://quantumexperience.ng.bluemix.net/api'\n",
    "}\n",
    "\n",
    "if 'APItoken' not in locals():\n",
    "  raise Exception(\"Please set up your access token. See Qconfig.py.\")\n",
    "\n",
    "```"
   ]
  },
  {
   "cell_type": "markdown",
   "metadata": {},
   "source": [
    "## Step1: プログラムを作成する\n",
    "\n",
    "量子コンピュータの理屈はとりあえず置いといて、実装に関する基本的な構成についてまとめます。"
   ]
  },
  {
   "cell_type": "code",
   "execution_count": 1,
   "metadata": {
    "collapsed": true
   },
   "outputs": [],
   "source": [
    "# jupyterはtutorial内で起動するため、qiskitパッケージをインポートするためにディレクトリの階層を一つ上げる必要がある。\n",
    "import sys\n",
    "sys.path.append(\"../\") \n",
    "\n",
    "from qiskit import QuantumProgram \n",
    "import Qconfig"
   ]
  },
  {
   "cell_type": "markdown",
   "metadata": {},
   "source": [
    "プログラムの主なパートとして\n",
    "- QuantumProgram : 全体的なプログラム\n",
    "- a Circuit : 細かい部品をひとまとめにしたもの。プログラムはcircuitの集合として表せる。\n",
    "- a Quantum Register : 入力\n",
    "- a Classical Register : 出力\n",
    "\n",
    "がある。\n",
    "\n",
    "\n",
    "これらを作成する。基本的な流れとしては、**量子レジスタの作成(入力)->Cuicuitの設計->量子レジスタを古典レジスタに変換->古典レジスタ(出力)**となっている。"
   ]
  },
  {
   "cell_type": "code",
   "execution_count": 2,
   "metadata": {},
   "outputs": [
    {
     "name": "stdout",
     "output_type": "stream",
     "text": [
      ">> quantum_registers created: qr 4\n",
      ">> classical_registers created: cr 4\n"
     ]
    }
   ],
   "source": [
    "# QuantumProgramクラスのインスタンスとしてQ_program作成\n",
    "Q_program = QuantumProgram() \n",
    "\n",
    "# レジスタの作成. Q_programのオブジェクト\n",
    "# 2Qbitを持つ量子レジスタqr\n",
    "Q_program.create_quantum_registers(\"qr\", 4)\n",
    "# 2bitを持つ古典レジスタcr\n",
    "Q_program.create_classical_registers(\"cr\", 4) \n",
    "\n",
    "# 回路 \"qc\" の作成\n",
    "# 古典的なレジスタ \"cr\"と 量子的なレジスタ \"qr\" をつなげた回路\n",
    "qc = Q_program.create_circuit(\"qc\", [\"qr\"], [\"cr\"])"
   ]
  },
  {
   "cell_type": "markdown",
   "metadata": {},
   "source": [
    "==> 各レジスタが作成された。一つ一つの部品を書くよりは、まとめて以下のようにも書ける:"
   ]
  },
  {
   "cell_type": "code",
   "execution_count": 3,
   "metadata": {
    "collapsed": true
   },
   "outputs": [],
   "source": [
    "Q_SPECS = {\n",
    "    \"name\": \"Program-tutorial\",\n",
    "    \"circuits\": [{\n",
    "         \"name\": \"Circuit\",\n",
    "         \"quantum_registers\": [{\n",
    "             \"name\":\"qr\",\n",
    "             \"size\": 4 \n",
    "         }],\n",
    "         \"classical_registers\": [{\n",
    "              \"name\":\"cr\",\n",
    "              \"size\": 4\n",
    "         }]}],\n",
    "}"
   ]
  },
  {
   "cell_type": "markdown",
   "metadata": {},
   "source": [
    "これを用いてクラス`QuantumProgram`のインスタンス変数を初期化する:"
   ]
  },
  {
   "cell_type": "code",
   "execution_count": 4,
   "metadata": {},
   "outputs": [
    {
     "name": "stdout",
     "output_type": "stream",
     "text": [
      ">> quantum_registers created: qr 4\n",
      ">> classical_registers created: cr 4\n"
     ]
    }
   ],
   "source": [
    "Q_program = QuantumProgram(specs=Q_SPECS)"
   ]
  },
  {
   "cell_type": "markdown",
   "metadata": {},
   "source": [
    "今後この方法でレジスタを作成する。回路やレジスタの指定には、以下のようにして作成したインスタンスを用いる。いずれも`Q_program`に対するオブジェクトとして定義されている。"
   ]
  },
  {
   "cell_type": "code",
   "execution_count": 5,
   "metadata": {
    "collapsed": true
   },
   "outputs": [],
   "source": [
    "#get the components.\n",
    "\n",
    "# get the circuit by Name\n",
    "circuit = Q_program.get_circuit(\"Circuit\")\n",
    "\n",
    "# get the Quantum Register by Name\n",
    "quantum_r = Q_program.get_quantum_registers(\"qr\")\n",
    "\n",
    "# get the Classical Register by Name\n",
    "classical_r = Q_program.get_classical_registers('cr')"
   ]
  },
  {
   "cell_type": "markdown",
   "metadata": {},
   "source": [
    "ここまでのコードをまとめると以下のようになる。"
   ]
  },
  {
   "cell_type": "code",
   "execution_count": null,
   "metadata": {
    "collapsed": true
   },
   "outputs": [],
   "source": [
    "# jupyterはtutorial内で起動するため、qiskitパッケージをインポートするためにディレクトリの階層を一つ上げる必要がある。\n",
    "import sys\n",
    "sys.path.append(\"../\") \n",
    "\n",
    "from qiskit import QuantumProgram \n",
    "import Qconfig\n",
    "\n",
    "Q_SPECS = {\n",
    "    \"name\": \"Program-tutorial\",\n",
    "    \"circuits\": [{\n",
    "         \"name\": \"Circuit\",\n",
    "         \"quantum_registers\": [{\n",
    "             \"name\":\"qr\",\n",
    "             \"size\": 4 \n",
    "         }],\n",
    "         \"classical_registers\": [{\n",
    "              \"name\":\"cr\",\n",
    "              \"size\": 4\n",
    "         }]}],\n",
    "}\n",
    "\n",
    "Q_program = QuantumProgram(specs=Q_SPECS) \n",
    "\n",
    "#get the components.\n",
    "\n",
    "# get the circuit by Name\n",
    "circuit = Q_program.get_circuit(\"Circuit\")\n",
    "\n",
    "# get the Quantum Register by Name\n",
    "quantum_r = Q_program.get_quantum_registers(\"qr\")\n",
    "\n",
    "# get the Classical Register by Name\n",
    "classical_r = Q_program.get_classical_registers('cr')"
   ]
  },
  {
   "cell_type": "markdown",
   "metadata": {},
   "source": [
    "ここでは入力と出力、回路を用意しただけなので、次のステップでは実際に回路にいろいろな操作（ゲート）を付け加えていくことにしよう。"
   ]
  },
  {
   "cell_type": "markdown",
   "metadata": {},
   "source": [
    "## Step2: 回路にゲートを追加する"
   ]
  },
  {
   "cell_type": "markdown",
   "metadata": {
    "collapsed": true
   },
   "source": [
    "以降は[「量子コンピュータで1+1を計算する」](http://qiita.com/kjtnk/items/8385052a50e3154d1022)をベースにして計算させてみます。\n",
    "\n",
    "まずは0+0を計算させよう. これまでやってきたようにレジスタを持つ回路を作成したら、`circuit`インスタンスにいろいろ「ゲート」を追加できる。量子コンピュータでは0+0は以下のように組めば良い.\n",
    "\n",
    "<img src='0+0.png'/>\n",
    "\n",
    "1. q[0]からq[3]はレジスタ(入力)で、初期値として0が入っている。\n",
    "2. トフォリゲート\n",
    "3. XOR回路: `q[0]` - `q[3]`\n",
    "4. XOR回路: `q[1]` - `q[3]`\n",
    "5. 計測"
   ]
  },
  {
   "cell_type": "code",
   "execution_count": 6,
   "metadata": {},
   "outputs": [
    {
     "name": "stdout",
     "output_type": "stream",
     "text": [
      "OPENQASM 2.0;\n",
      "include \"qelib1.inc\";\n",
      "qreg qr[4];\n",
      "creg cr[4];\n",
      "ccx qr[0],qr[1],qr[2];\n",
      "cx qr[0],qr[3];\n",
      "cx qr[1],qr[3];\n",
      "measure qr[0] -> cr[3];\n",
      "measure qr[1] -> cr[2];\n",
      "measure qr[2] -> cr[1];\n",
      "measure qr[3] -> cr[0];\n",
      "\n"
     ]
    }
   ],
   "source": [
    "# AND gate from Qbit 0 to the Qbit 1 and 2\n",
    "circuit.ccx(quantum_r[0], quantum_r[1], quantum_r[2])\n",
    "\n",
    "# XOR gate from Qbit 0 to the Qbit 3\n",
    "circuit.cx(quantum_r[0], quantum_r[3])\n",
    "\n",
    "# XOR gate from Qbit 1 to the Qbit 3\n",
    "circuit.cx(quantum_r[1], quantum_r[3])\n",
    "\n",
    "# measure gate from the Qbit 0 to Classical bit 3\n",
    "circuit.measure(quantum_r[0], classical_r[3]) \n",
    "\n",
    "# measure gate from the Qbit 1 to Classical bit 2\n",
    "circuit.measure(quantum_r[1], classical_r[2])\n",
    "\n",
    "# measure gate from the Qbit 2 to Classical bit 1\n",
    "circuit.measure(quantum_r[2], classical_r[1]) \n",
    "\n",
    "# measure gate from the Qbit 3 to Classical bit 0\n",
    "circuit.measure(quantum_r[3], classical_r[0]) \n",
    "\n",
    "QASM_source = Q_program.get_qasm(\"Circuit\")\n",
    "\n",
    "print(QASM_source)"
   ]
  },
  {
   "cell_type": "markdown",
   "metadata": {},
   "source": [
    "## Step3: コードの実行"
   ]
  },
  {
   "cell_type": "markdown",
   "metadata": {},
   "source": [
    "ここでコードを実行し、クラウドを介してIBMの量子コンピュータと接続して計算を行う。このステップでPersonal tokenが必要になる。"
   ]
  },
  {
   "cell_type": "code",
   "execution_count": 15,
   "metadata": {},
   "outputs": [
    {
     "data": {
      "text/plain": [
       "True"
      ]
     },
     "execution_count": 15,
     "metadata": {},
     "output_type": "execute_result"
    }
   ],
   "source": [
    "device = 'simulator' #Backed where execute your program, in this case in the on line simulator \n",
    "circuits = ['Circuit'] #Group of circuits to exec \n",
    "\n",
    "Q_program.set_api(Qconfig.APItoken, Qconfig.config[\"url\"]) \n",
    "#set the APIToken and API url"
   ]
  },
  {
   "cell_type": "markdown",
   "metadata": {},
   "source": [
    "Trueと出ればIBMの量子コンピュータとつながっているので、以下を実行すれば結果が得られる。"
   ]
  },
  {
   "cell_type": "code",
   "execution_count": 16,
   "metadata": {},
   "outputs": [
    {
     "name": "stdout",
     "output_type": "stream",
     "text": [
      "running on backend: simulator\n",
      "{'status': 'COMPLETED', 'result': 'all done'}\n"
     ]
    }
   ],
   "source": [
    "Q_program.compile(circuits, device) # Compile your program\n",
    "\n",
    "result = Q_program.run(wait=2, timeout=240)\n",
    "\n",
    "print(result)"
   ]
  },
  {
   "cell_type": "markdown",
   "metadata": {},
   "source": [
    "エラーが出なければ無事計算は終了している。"
   ]
  },
  {
   "cell_type": "code",
   "execution_count": 17,
   "metadata": {},
   "outputs": [
    {
     "data": {
      "text/plain": [
       "{'0000': 1024}"
      ]
     },
     "execution_count": 17,
     "metadata": {},
     "output_type": "execute_result"
    }
   ],
   "source": [
    "Q_program.get_counts(\"Circuit\")"
   ]
  },
  {
   "cell_type": "markdown",
   "metadata": {},
   "source": [
    "ここで`'0000'`というのは、0+0=00を表している。量子レジスタは4つ用意されているので、その値が古典レジスタの値に入り、0000を出力している。"
   ]
  },
  {
   "cell_type": "markdown",
   "metadata": {},
   "source": [
    "### 全体のコード\n",
    "\n",
    "ここまでのコードをまとめると、以下のようになっている。"
   ]
  },
  {
   "cell_type": "code",
   "execution_count": 4,
   "metadata": {},
   "outputs": [
    {
     "name": "stdout",
     "output_type": "stream",
     "text": [
      ">> quantum_registers created: qr 4\n",
      ">> classical_registers created: cr 4\n",
      "OPENQASM 2.0;\n",
      "include \"qelib1.inc\";\n",
      "qreg qr[4];\n",
      "creg cr[4];\n",
      "ccx qr[0],qr[1],qr[2];\n",
      "cx qr[0],qr[3];\n",
      "cx qr[1],qr[3];\n",
      "measure qr[0] -> cr[3];\n",
      "measure qr[1] -> cr[2];\n",
      "measure qr[2] -> cr[1];\n",
      "measure qr[3] -> cr[0];\n",
      "\n",
      "running on backend: simulator\n",
      "{'status': 'COMPLETED', 'result': 'all done'}\n"
     ]
    },
    {
     "data": {
      "text/plain": [
       "{'0000': 1024}"
      ]
     },
     "execution_count": 4,
     "metadata": {},
     "output_type": "execute_result"
    }
   ],
   "source": [
    "# jupyterはtutorial内で起動するため、qiskitパッケージをインポートするためにディレクトリの階層を一つ上げる必要がある。\n",
    "import sys\n",
    "sys.path.append(\"../\") \n",
    "\n",
    "from qiskit import QuantumProgram \n",
    "import Qconfig\n",
    "\n",
    "Q_SPECS = {\n",
    "    \"name\": \"Program-tutorial\",\n",
    "    \"circuits\": [{\n",
    "         \"name\": \"Circuit\",\n",
    "         \"quantum_registers\": [{\n",
    "             \"name\":\"qr\",\n",
    "             \"size\": 4 \n",
    "         }],\n",
    "         \"classical_registers\": [{\n",
    "              \"name\":\"cr\",\n",
    "              \"size\": 4\n",
    "         }]}],\n",
    "}\n",
    "\n",
    "Q_program = QuantumProgram(specs=Q_SPECS)\n",
    "\n",
    "# get the circuit by Name\n",
    "circuit = Q_program.get_circuit(\"Circuit\")\n",
    "\n",
    "# get the Quantum Register by Name\n",
    "quantum_r = Q_program.get_quantum_registers(\"qr\")\n",
    "\n",
    "# get the Classical Register by Name\n",
    "classical_r = Q_program.get_classical_registers('cr')\n",
    "\n",
    "\n",
    "# ----------------------------------------------\n",
    "# Create circuit: 0 + 0\n",
    "# ----------------------------------------------\n",
    "\n",
    "# AND gate from Qbit 0 to the Qbit 1 and 2\n",
    "circuit.ccx(quantum_r[0], quantum_r[1], quantum_r[2])\n",
    "\n",
    "# XOR gate from Qbit 0 to the Qbit 3\n",
    "circuit.cx(quantum_r[0], quantum_r[3])\n",
    "\n",
    "# XOR gate from Qbit 1 to the Qbit 3\n",
    "circuit.cx(quantum_r[1], quantum_r[3])\n",
    "\n",
    "# measure gate from the Qbit 0 to Classical bit 3\n",
    "circuit.measure(quantum_r[0], classical_r[3]) \n",
    "\n",
    "# measure gate from the Qbit 1 to Classical bit 2\n",
    "circuit.measure(quantum_r[1], classical_r[2])\n",
    "\n",
    "# measure gate from the Qbit 2 to Classical bit 1\n",
    "circuit.measure(quantum_r[2], classical_r[1]) \n",
    "\n",
    "# measure gate from the Qbit 3 to Classical bit 0\n",
    "circuit.measure(quantum_r[3], classical_r[0]) \n",
    "\n",
    "QASM_source = Q_program.get_qasm(\"Circuit\")\n",
    "\n",
    "print(QASM_source)\n",
    "\n",
    "# ----------------------------------------------\n",
    "# Output\n",
    "# ----------------------------------------------\n",
    "\n",
    "device = 'simulator' #Backed where execute your program, in this case in the on line simulator \n",
    "circuits = ['Circuit'] #Group of circuits to exec \n",
    "\n",
    "Q_program.set_api(Qconfig.APItoken, Qconfig.config[\"url\"]) \n",
    "#set the APIToken and API url \n",
    "\n",
    "Q_program.compile(circuits, device) # Compile your program\n",
    "\n",
    "result = Q_program.run(wait=2, timeout=240)\n",
    "\n",
    "print(result)\n",
    "\n",
    "Q_program.get_counts(\"Circuit\")"
   ]
  },
  {
   "cell_type": "markdown",
   "metadata": {},
   "source": [
    "## そのほかの例\n",
    "\n",
    "### 1+0"
   ]
  },
  {
   "cell_type": "markdown",
   "metadata": {},
   "source": [
    "<img src='1+0.png'/>\n",
    "\n",
    "※画像は上記のQiitaの記事より引用"
   ]
  },
  {
   "cell_type": "code",
   "execution_count": 5,
   "metadata": {},
   "outputs": [
    {
     "name": "stdout",
     "output_type": "stream",
     "text": [
      ">> quantum_registers created: qr 4\n",
      ">> classical_registers created: cr 4\n",
      "OPENQASM 2.0;\n",
      "include \"qelib1.inc\";\n",
      "qreg qr[4];\n",
      "creg cr[4];\n",
      "x qr[0];\n",
      "ccx qr[0],qr[1],qr[2];\n",
      "cx qr[0],qr[3];\n",
      "cx qr[1],qr[3];\n",
      "measure qr[0] -> cr[3];\n",
      "measure qr[1] -> cr[2];\n",
      "measure qr[2] -> cr[1];\n",
      "measure qr[3] -> cr[0];\n",
      "\n",
      "running on backend: simulator\n",
      "{'status': 'COMPLETED', 'result': 'all done'}\n"
     ]
    },
    {
     "data": {
      "text/plain": [
       "{'1001': 1024}"
      ]
     },
     "execution_count": 5,
     "metadata": {},
     "output_type": "execute_result"
    }
   ],
   "source": [
    "# jupyterはtutorial内で起動するため、qiskitパッケージをインポートするためにディレクトリの階層を一つ上げる必要がある。\n",
    "import sys\n",
    "sys.path.append(\"../\") \n",
    "\n",
    "from qiskit import QuantumProgram \n",
    "import Qconfig\n",
    "\n",
    "Q_SPECS = {\n",
    "    \"name\": \"Program-tutorial\",\n",
    "    \"circuits\": [{\n",
    "         \"name\": \"Circuit\",\n",
    "         \"quantum_registers\": [{\n",
    "             \"name\":\"qr\",\n",
    "             \"size\": 4 \n",
    "         }],\n",
    "         \"classical_registers\": [{\n",
    "              \"name\":\"cr\",\n",
    "              \"size\": 4\n",
    "         }]}],\n",
    "}\n",
    "\n",
    "Q_program = QuantumProgram(specs=Q_SPECS)\n",
    "\n",
    "# get the circuit by Name\n",
    "circuit = Q_program.get_circuit(\"Circuit\")\n",
    "\n",
    "# get the Quantum Register by Name\n",
    "quantum_r = Q_program.get_quantum_registers(\"qr\")\n",
    "\n",
    "# get the Classical Register by Name\n",
    "classical_r = Q_program.get_classical_registers('cr')\n",
    "\n",
    "\n",
    "# ----------------------------------------------\n",
    "# Create circuit: 1 + 0\n",
    "# ----------------------------------------------\n",
    "\n",
    "# bit-flip 0 -> 1\n",
    "circuit.x(quantum_r[0])\n",
    "\n",
    "# AND gate from Qbit 0 to the Qbit 1 and 2\n",
    "circuit.ccx(quantum_r[0], quantum_r[1], quantum_r[2])\n",
    "\n",
    "# XOR gate from Qbit 0 to the Qbit 3\n",
    "circuit.cx(quantum_r[0], quantum_r[3])\n",
    "\n",
    "# XOR gate from Qbit 1 to the Qbit 3\n",
    "circuit.cx(quantum_r[1], quantum_r[3])\n",
    "\n",
    "# measure gate from the Qbit 0 to Classical bit 3\n",
    "circuit.measure(quantum_r[0], classical_r[3]) \n",
    "\n",
    "# measure gate from the Qbit 1 to Classical bit 2\n",
    "circuit.measure(quantum_r[1], classical_r[2])\n",
    "\n",
    "# measure gate from the Qbit 2 to Classical bit 1\n",
    "circuit.measure(quantum_r[2], classical_r[1]) \n",
    "\n",
    "# measure gate from the Qbit 3 to Classical bit 0\n",
    "circuit.measure(quantum_r[3], classical_r[0]) \n",
    "\n",
    "QASM_source = Q_program.get_qasm(\"Circuit\")\n",
    "\n",
    "print(QASM_source)\n",
    "\n",
    "# ----------------------------------------------\n",
    "# Output\n",
    "# ----------------------------------------------\n",
    "\n",
    "device = 'simulator' #Backed where execute your program, in this case in the on line simulator \n",
    "circuits = ['Circuit'] #Group of circuits to exec \n",
    "\n",
    "Q_program.set_api(Qconfig.APItoken, Qconfig.config[\"url\"]) \n",
    "#set the APIToken and API url \n",
    "\n",
    "Q_program.compile(circuits, device) # Compile your program\n",
    "\n",
    "result = Q_program.run(wait=2, timeout=240)\n",
    "\n",
    "print(result)\n",
    "\n",
    "Q_program.get_counts(\"Circuit\")"
   ]
  },
  {
   "cell_type": "markdown",
   "metadata": {},
   "source": [
    "`1 + 0 = 01`となり、1+0=1が計算できている。出力は古典ビットとして`cr[3]cr[2]cr[1]cr[0]`と出ることに注意。1024は2の10乗なので、2の冪が10になれば100%かな？違いは回路作成の最初に`quantum_r[0]`に対してビット反転`x`を施したことにある。先の例(0+0=00)では、何も入力されていない状態=0であったのが、今回は反転により`1`になっていた。結果としてこの理屈で計算を進めると、ほしい結果が得られた。"
   ]
  },
  {
   "cell_type": "markdown",
   "metadata": {},
   "source": [
    "### 1+1"
   ]
  },
  {
   "cell_type": "markdown",
   "metadata": {},
   "source": [
    "<img src='1+1.png'/>"
   ]
  },
  {
   "cell_type": "code",
   "execution_count": 2,
   "metadata": {},
   "outputs": [
    {
     "name": "stdout",
     "output_type": "stream",
     "text": [
      ">> quantum_registers created: qr 4\n",
      ">> classical_registers created: cr 4\n",
      "OPENQASM 2.0;\n",
      "include \"qelib1.inc\";\n",
      "qreg qr[4];\n",
      "creg cr[4];\n",
      "x qr[0];\n",
      "x qr[1];\n",
      "ccx qr[0],qr[1],qr[2];\n",
      "cx qr[0],qr[3];\n",
      "cx qr[1],qr[3];\n",
      "measure qr[0] -> cr[3];\n",
      "measure qr[1] -> cr[2];\n",
      "measure qr[2] -> cr[1];\n",
      "measure qr[3] -> cr[0];\n",
      "\n",
      "running on backend: simulator\n",
      "{'status': 'COMPLETED', 'result': 'all done'}\n"
     ]
    },
    {
     "data": {
      "text/plain": [
       "{'1110': 1024}"
      ]
     },
     "execution_count": 2,
     "metadata": {},
     "output_type": "execute_result"
    }
   ],
   "source": [
    "# jupyterはtutorial内で起動するため、qiskitパッケージをインポートするためにディレクトリの階層を一つ上げる必要がある。\n",
    "import sys\n",
    "sys.path.append(\"../\") \n",
    "\n",
    "from qiskit import QuantumProgram \n",
    "import Qconfig\n",
    "\n",
    "Q_SPECS = {\n",
    "    \"name\": \"Program-tutorial\",\n",
    "    \"circuits\": [{\n",
    "         \"name\": \"Circuit\",\n",
    "         \"quantum_registers\": [{\n",
    "             \"name\":\"qr\",\n",
    "             \"size\": 4 \n",
    "         }],\n",
    "         \"classical_registers\": [{\n",
    "              \"name\":\"cr\",\n",
    "              \"size\": 4\n",
    "         }]}],\n",
    "}\n",
    "\n",
    "Q_program = QuantumProgram(specs=Q_SPECS)\n",
    "\n",
    "# get the circuit by Name\n",
    "circuit = Q_program.get_circuit(\"Circuit\")\n",
    "\n",
    "# get the Quantum Register by Name\n",
    "quantum_r = Q_program.get_quantum_registers(\"qr\")\n",
    "\n",
    "# get the Classical Register by Name\n",
    "classical_r = Q_program.get_classical_registers('cr')\n",
    "\n",
    "# ----------------------------------------------\n",
    "# Create circuit: 1 + 1\n",
    "# ----------------------------------------------\n",
    "\n",
    "# bit-flip 0 -> 1 at Qbit 0\n",
    "circuit.x(quantum_r[0])\n",
    "\n",
    "# bit-flip 0 -> 1 at Qbit 1\n",
    "circuit.x(quantum_r[1])\n",
    "\n",
    "# AND gate from Qbit 0 to the Qbit 1 and 2\n",
    "circuit.ccx(quantum_r[0], quantum_r[1], quantum_r[2])\n",
    "\n",
    "# XOR gate from Qbit 0 to the Qbit 3\n",
    "circuit.cx(quantum_r[0], quantum_r[3])\n",
    "\n",
    "# XOR gate from Qbit 1 to the Qbit 3\n",
    "circuit.cx(quantum_r[1], quantum_r[3])\n",
    "\n",
    "# measure gate from the Qbit 0 to Classical bit 3\n",
    "circuit.measure(quantum_r[0], classical_r[3]) \n",
    "\n",
    "# measure gate from the Qbit 1 to Classical bit 2\n",
    "circuit.measure(quantum_r[1], classical_r[2])\n",
    "\n",
    "# measure gate from the Qbit 2 to Classical bit 1\n",
    "circuit.measure(quantum_r[2], classical_r[1]) \n",
    "\n",
    "# measure gate from the Qbit 3 to Classical bit 0\n",
    "circuit.measure(quantum_r[3], classical_r[0]) \n",
    "\n",
    "QASM_source = Q_program.get_qasm(\"Circuit\")\n",
    "\n",
    "print(QASM_source)\n",
    "\n",
    "# ----------------------------------------------\n",
    "# Output\n",
    "# ----------------------------------------------\n",
    "\n",
    "device = 'simulator' #Backed where execute your program, in this case in the on line simulator \n",
    "circuits = ['Circuit'] #Group of circuits to exec \n",
    "\n",
    "Q_program.set_api(Qconfig.APItoken, Qconfig.config[\"url\"]) \n",
    "#set the APIToken and API url \n",
    "\n",
    "Q_program.compile(circuits, device) # Compile your program\n",
    "\n",
    "result = Q_program.run(wait=2, timeout=240)\n",
    "\n",
    "print(result)\n",
    "\n",
    "Q_program.get_counts(\"Circuit\")"
   ]
  },
  {
   "cell_type": "markdown",
   "metadata": {},
   "source": [
    "=> 1 + 1 = 10 (10は10進数で2) となり、1+1=2が計算できた。\n",
    "\n",
    "**注意** jupyterでこのコードを実行するときは、メモリーを消去(リスタート)してから実行してください。（そうしないとレジスタのビットが反転したまま計算が行われてしまう）"
   ]
  },
  {
   "cell_type": "markdown",
   "metadata": {},
   "source": [
    "## 一回で 0 + 0, 1 + 0, 1 + 1を計算する"
   ]
  },
  {
   "cell_type": "markdown",
   "metadata": {},
   "source": [
    "<img src='00+01+11.png'/>"
   ]
  },
  {
   "cell_type": "code",
   "execution_count": 1,
   "metadata": {},
   "outputs": [
    {
     "name": "stdout",
     "output_type": "stream",
     "text": [
      ">> quantum_registers created: qr 4\n",
      ">> classical_registers created: cr 4\n",
      "OPENQASM 2.0;\n",
      "include \"qelib1.inc\";\n",
      "qreg qr[4];\n",
      "creg cr[4];\n",
      "h qr[0];\n",
      "h qr[1];\n",
      "ccx qr[0],qr[1],qr[2];\n",
      "cx qr[0],qr[3];\n",
      "cx qr[1],qr[3];\n",
      "measure qr[0] -> cr[3];\n",
      "measure qr[1] -> cr[2];\n",
      "measure qr[2] -> cr[1];\n",
      "measure qr[3] -> cr[0];\n",
      "\n",
      "running on backend: simulator\n",
      "{'status': 'COMPLETED', 'result': 'all done'}\n"
     ]
    },
    {
     "data": {
      "text/plain": [
       "{'0000': 233, '0101': 238, '1001': 289, '1110': 264}"
      ]
     },
     "execution_count": 1,
     "metadata": {},
     "output_type": "execute_result"
    }
   ],
   "source": [
    "# jupyterはtutorial内で起動するため、qiskitパッケージをインポートするためにディレクトリの階層を一つ上げる必要がある。\n",
    "import sys\n",
    "sys.path.append(\"../\") \n",
    "\n",
    "from qiskit import QuantumProgram \n",
    "import Qconfig\n",
    "\n",
    "Q_SPECS = {\n",
    "    \"name\": \"Program-tutorial\",\n",
    "    \"circuits\": [{\n",
    "         \"name\": \"Circuit\",\n",
    "         \"quantum_registers\": [{\n",
    "             \"name\":\"qr\",\n",
    "             \"size\": 4 \n",
    "         }],\n",
    "         \"classical_registers\": [{\n",
    "              \"name\":\"cr\",\n",
    "              \"size\": 4\n",
    "         }]}],\n",
    "}\n",
    "\n",
    "Q_program = QuantumProgram(specs=Q_SPECS)\n",
    "\n",
    "# get the circuit by Name\n",
    "circuit = Q_program.get_circuit(\"Circuit\")\n",
    "\n",
    "# get the Quantum Register by Name\n",
    "quantum_r = Q_program.get_quantum_registers(\"qr\")\n",
    "\n",
    "# get the Classical Register by Name\n",
    "classical_r = Q_program.get_classical_registers('cr')\n",
    "\n",
    "# ----------------------------------------------\n",
    "# Create circuit: 1 + 1\n",
    "# ----------------------------------------------\n",
    "\n",
    "# superposition at Qbit 0 and 1\n",
    "circuit.h(quantum_r[0])\n",
    "circuit.h(quantum_r[1])\n",
    "\n",
    "# AND gate from Qbit 0 to the Qbit 1 and 2\n",
    "circuit.ccx(quantum_r[0], quantum_r[1], quantum_r[2])\n",
    "\n",
    "# XOR gate from Qbit 0 to the Qbit 3\n",
    "circuit.cx(quantum_r[0], quantum_r[3])\n",
    "\n",
    "# XOR gate from Qbit 1 to the Qbit 3\n",
    "circuit.cx(quantum_r[1], quantum_r[3])\n",
    "\n",
    "# measure gate from the Qbit 0 to Classical bit 3\n",
    "circuit.measure(quantum_r[0], classical_r[3]) \n",
    "\n",
    "# measure gate from the Qbit 1 to Classical bit 2\n",
    "circuit.measure(quantum_r[1], classical_r[2])\n",
    "\n",
    "# measure gate from the Qbit 2 to Classical bit 1\n",
    "circuit.measure(quantum_r[2], classical_r[1]) \n",
    "\n",
    "# measure gate from the Qbit 3 to Classical bit 0\n",
    "circuit.measure(quantum_r[3], classical_r[0]) \n",
    "\n",
    "QASM_source = Q_program.get_qasm(\"Circuit\")\n",
    "\n",
    "print(QASM_source)\n",
    "\n",
    "# ----------------------------------------------\n",
    "# Output\n",
    "# ----------------------------------------------\n",
    "\n",
    "device = 'simulator' #Backed where execute your program, in this case in the on line simulator \n",
    "circuits = ['Circuit'] #Group of circuits to exec \n",
    "\n",
    "Q_program.set_api(Qconfig.APItoken, Qconfig.config[\"url\"]) \n",
    "#set the APIToken and API url \n",
    "\n",
    "Q_program.compile(circuits, device) # Compile your program\n",
    "\n",
    "result = Q_program.run(wait=2, timeout=240)\n",
    "\n",
    "print(result)\n",
    "\n",
    "Q_program.get_counts(\"Circuit\")"
   ]
  },
  {
   "cell_type": "markdown",
   "metadata": {},
   "source": [
    "となり、各結果が計算できました。このコードでは、先程の`circuit.x`の代わりに`circuit.h`を用いて、`quantum_r[0]`と`quantum_r[1]`の重ね合わせの状態を使いました。\n",
    "\n",
    "量子コンピュータの処理が早いと言われる所以はここにあります。このように幾つかの処理を重ね合わせの状態を用いて同時に行えるんですね。今はまだ4つの量子レジスタだけを使っていますし、IBMの量子コンピュータもまだそこまで大規模ではないですが、大量の量子レジスタを持つ量子コンピュータができた場合、とんでもない数の計算を同時に行うことができます。"
   ]
  },
  {
   "cell_type": "markdown",
   "metadata": {},
   "source": [
    "## おわりに\n",
    "\n",
    "今回は主にどうやって実装するかについてまとめました。ただ、各コードの意味をまだ深く理解できていませんし、ネットに転がっている情報も少ないので、もっともっとIBM Qに触れる人が出てくればいいのにと思います。。。"
   ]
  }
 ],
 "metadata": {
  "kernelspec": {
   "display_name": "Python 3",
   "language": "python",
   "name": "python3"
  },
  "language_info": {
   "codemirror_mode": {
    "name": "ipython",
    "version": 3.0
   },
   "file_extension": ".py",
   "mimetype": "text/x-python",
   "name": "python",
   "nbconvert_exporter": "python",
   "pygments_lexer": "ipython3",
   "version": "3.6.2"
  },
  "toc": {
   "colors": {
    "hover_highlight": "#DAA520",
    "running_highlight": "#FF0000",
    "selected_highlight": "#FFD700"
   },
   "moveMenuLeft": true,
   "nav_menu": {
    "height": "210px",
    "width": "252px"
   },
   "navigate_menu": true,
   "number_sections": true,
   "sideBar": true,
   "threshold": "3",
   "toc_cell": false,
   "toc_section_display": "block",
   "toc_window_display": false,
   "widenNotebook": false
  }
 },
 "nbformat": 4,
 "nbformat_minor": 0
}