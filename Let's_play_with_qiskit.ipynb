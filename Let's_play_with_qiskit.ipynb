{
 "cells": [
  {
   "cell_type": "markdown",
   "metadata": {},
   "source": [
    "# Let's play with qiskit"
   ]
  },
  {
   "cell_type": "markdown",
   "metadata": {},
   "source": [
    "This note discusses the computation by the SDK for the quantum computing, 'QISKit', pubished by IBM. I do not summarize the detailed theoretical background of quantum computation. You might hard to understand the quantum computation by only this note and need to consult other references. Instead, I will just give you several elementary examples and its implementation.\n",
    "\n",
    "**What we deal with**: 0+0=00, 1+0=01, 1+1=10 and the superposition of them.\n",
    "\n",
    "**References**\n",
    "\n",
    "1. [IBM Q experience library](https://quantumexperience.ng.bluemix.net/qx/user-guide)\n",
    "2. [A developer’s guide to using the Quantum QISKit SDK](https://developer.ibm.com/code/2017/05/17/developers-guide-to-quantum-qiskit-sdk/)\n",
    "\n",
    "The reference, [1.], is where you can find the theoretical background of the quantum computing and that for the developers. When I summarize this note, the developer page on 1. is in the middle of editing. However, [the QISkit tutorial](https://github.com/QISKit/qiskit-tutorial) has much more tutorials including the elementary and advanced examples. So, after finishing this note, you may find interesting examples there. In this note, the content in [2.] is supposed to be dealt.\n",
    "\n",
    "To perform the code on this note, you're supposed to do the follwing praparation.\n"
   ]
  },
  {
   "cell_type": "markdown",
   "metadata": {},
   "source": [
    "## Getting started"
   ]
  },
  {
   "cell_type": "markdown",
   "metadata": {},
   "source": [
    "To run this program, you need to...\n",
    "\n",
    "1. Download the package of `IBM QuantumExperience` by pip and install it:\n",
    "`pip install --upgrade IBMQuantumExperience` or `pip3 install --upgrade IBMQuantumExperience`\n",
    "\n",
    "2. create the working directory and execute\n",
    "`git clone git clone https://github.com/IBM/qiskit-sdk-py`\n",
    "\n",
    "3. move into `qiskit-sdk` directory and then do `make run`. (You will see `jupyter notebook`) After that, you will be able to run Jupyter in `tutorial` directory.\n",
    "\n",
    "4. execute `cp tutorial/Qconfig.py.default Qconfig.py` and create 'Qconfig.py'. Now, you also need to create the account [here](https://quantumexperience.ng.bluemix.net/qx/user-guide) and obtain Personal token to put in the form (in \"...\") in `Qconfig.py`.\n",
    "\n",
    "*Another remarks*\n",
    "\n",
    "**Why we want to register?**\n",
    "- I suppose that we can write our own purpose in the following entry. It's okay that you don't use it for 'true' research. \n",
    "![](./register.png)\n",
    "\n",
    "**Personal token**\n",
    "The following image shows mine token:\n",
    "![](Personal_token.png)\n",
    "\n",
    "Once you generated your own personal token, you just have to put it on `Qconfig.py` as follows:\n",
    "\n",
    "```\n",
    "# Before you can use the jobs API, you need to set up an access token.\n",
    "# Log in to the Quantum Experience. Under \"Account\", generate a personal \n",
    "# access token. Replace \"None\" below with the quoted token string.\n",
    "# Uncomment the APItoken variable, and you will be ready to go.\n",
    "\n",
    "APItoken = \"\" # HERE\n",
    "\n",
    "config = {\n",
    "  \"url\": 'https://quantumexperience.ng.bluemix.net/api'\n",
    "}\n",
    "\n",
    "if 'APItoken' not in locals():\n",
    "  raise Exception(\"Please set up your access token. See Qconfig.py.\")\n",
    "\n",
    "```"
   ]
  },
  {
   "cell_type": "markdown",
   "metadata": {},
   "source": [
    "## Step1: Create the program\n",
    "\n",
    "Let's leave aside the thereory of quantum computer and summarize the basic structure of the source code."
   ]
  },
  {
   "cell_type": "code",
   "execution_count": 1,
   "metadata": {
    "collapsed": true
   },
   "outputs": [],
   "source": [
    "# Since Jupyter runs in tutorial directory, you need to raise the directory upto \n",
    "# one level to import qiskit libraries.\n",
    "import sys\n",
    "sys.path.append(\"../\") \n",
    "\n",
    "from qiskit import QuantumProgram \n",
    "import Qconfig"
   ]
  },
  {
   "cell_type": "markdown",
   "metadata": {},
   "source": [
    "The main program consists of \n",
    "- QuantumProgram : The whole part\n",
    "- a Circuit : the one of a part of program and collected small parts. It consisits of Quantum Program.\n",
    "- a Quantum Register : Input\n",
    "- a Classical Register : Output\n",
    "\n",
    "In the following, we will create the above parts. So, the flow is \n",
    "\n",
    "**Creating quantum register (input) -> design for the circuits -> convert quantum register into classic register -> classical register (output)**\n",
    "\n",
    "I also want to write quantum register as **q-register** and classical register as **c-register** from now on."
   ]
  },
  {
   "cell_type": "code",
   "execution_count": 2,
   "metadata": {},
   "outputs": [
    {
     "name": "stdout",
     "output_type": "stream",
     "text": [
      ">> quantum_registers created: qr 4\n",
      ">> classical_registers created: cr 4\n"
     ]
    }
   ],
   "source": [
    "# create Q_program which is the instance of QuantumProgram class\n",
    "Q_program = QuantumProgram() \n",
    "\n",
    "# create q-register with 4-Qbit which is the object of Q_program\n",
    "Q_program.create_quantum_registers(\"qr\", 4)\n",
    "# create c-register with 4-Qbit which is the object of Q_program\n",
    "Q_program.create_classical_registers(\"cr\", 4) \n",
    "\n",
    "# Creating the circuit called \"qc\"\n",
    "# the one connected between q-register \"qr\" and c-register \"cr\"\n",
    "qc = Q_program.create_circuit(\"qc\", [\"qr\"], [\"cr\"])"
   ]
  },
  {
   "cell_type": "markdown",
   "metadata": {},
   "source": [
    "==> The initial setting has done. We might prefer writing as follows:"
   ]
  },
  {
   "cell_type": "code",
   "execution_count": 3,
   "metadata": {
    "collapsed": true
   },
   "outputs": [],
   "source": [
    "Q_SPECS = {\n",
    "    \"name\": \"Program-tutorial\",\n",
    "    \"circuits\": [{\n",
    "         \"name\": \"Circuit\",\n",
    "         \"quantum_registers\": [{\n",
    "             \"name\":\"qr\",\n",
    "             \"size\": 4 \n",
    "         }],\n",
    "         \"classical_registers\": [{\n",
    "              \"name\":\"cr\",\n",
    "              \"size\": 4\n",
    "         }]}],\n",
    "}"
   ]
  },
  {
   "cell_type": "markdown",
   "metadata": {},
   "source": [
    "We don't need to spend many lines and read them easily! By using them, we need to initialize the instance variables of the class, `QuantumProgram`."
   ]
  },
  {
   "cell_type": "code",
   "execution_count": 4,
   "metadata": {},
   "outputs": [
    {
     "name": "stdout",
     "output_type": "stream",
     "text": [
      ">> quantum_registers created: qr 4\n",
      ">> classical_registers created: cr 4\n"
     ]
    }
   ],
   "source": [
    "Q_program = QuantumProgram(specs=Q_SPECS)"
   ]
  },
  {
   "cell_type": "markdown",
   "metadata": {},
   "source": [
    "Let's choose this convenient way from now on. We also use the following instance for specifing a circuit or a register, both of which are defined as a object to `Q_program`."
   ]
  },
  {
   "cell_type": "code",
   "execution_count": 5,
   "metadata": {
    "collapsed": true
   },
   "outputs": [],
   "source": [
    "#get the components.\n",
    "\n",
    "# get the circuit by Name\n",
    "circuit = Q_program.get_circuit(\"Circuit\")\n",
    "\n",
    "# get the Quantum Register by Name\n",
    "quantum_r = Q_program.get_quantum_registers(\"qr\")\n",
    "\n",
    "# get the Classical Register by Name\n",
    "classical_r = Q_program.get_classical_registers('cr')"
   ]
  },
  {
   "cell_type": "markdown",
   "metadata": {},
   "source": [
    "Summarizing the followed code, we obtain:"
   ]
  },
  {
   "cell_type": "code",
   "execution_count": null,
   "metadata": {
    "collapsed": true
   },
   "outputs": [],
   "source": [
    "# Since Jupyter runs in tutorial directory, you need to raise the directory upto \n",
    "# one level to import qiskit libraries.\n",
    "import sys\n",
    "sys.path.append(\"../\") \n",
    "\n",
    "from qiskit import QuantumProgram \n",
    "import Qconfig\n",
    "\n",
    "Q_SPECS = {\n",
    "    \"name\": \"Program-tutorial\",\n",
    "    \"circuits\": [{\n",
    "         \"name\": \"Circuit\",\n",
    "         \"quantum_registers\": [{\n",
    "             \"name\":\"qr\",\n",
    "             \"size\": 4 \n",
    "         }],\n",
    "         \"classical_registers\": [{\n",
    "              \"name\":\"cr\",\n",
    "              \"size\": 4\n",
    "         }]}],\n",
    "}\n",
    "\n",
    "Q_program = QuantumProgram(specs=Q_SPECS) \n",
    "\n",
    "#get the components.\n",
    "\n",
    "# get the circuit by Name\n",
    "circuit = Q_program.get_circuit(\"Circuit\")\n",
    "\n",
    "# get the Quantum Register by Name\n",
    "quantum_r = Q_program.get_quantum_registers(\"qr\")\n",
    "\n",
    "# get the Classical Register by Name\n",
    "classical_r = Q_program.get_classical_registers('cr')"
   ]
  },
  {
   "cell_type": "markdown",
   "metadata": {},
   "source": [
    "Note that we have just prepared for the input, output and circuit. In the next step, we will add some operation including 'gates'."
   ]
  },
  {
   "cell_type": "markdown",
   "metadata": {},
   "source": [
    "## Step2: Adding gates into a circuit"
   ]
  },
  {
   "cell_type": "markdown",
   "metadata": {
    "collapsed": true
   },
   "source": [
    "First of all, we compute 0+0 in the quantum computing. After creating the circuit as we have done, we can add several operations in it. For the first example, 0+0, we can implement as follows:\n",
    "\n",
    "<img src='0+0.png'/>\n",
    "(Note: This can be done in 'composer' tab in the [website](https://quantumexperience.ng.bluemix.net/qx/user-guide).)"
   ]
  },
  {
   "cell_type": "code",
   "execution_count": 6,
   "metadata": {},
   "outputs": [
    {
     "name": "stdout",
     "output_type": "stream",
     "text": [
      "OPENQASM 2.0;\n",
      "include \"qelib1.inc\";\n",
      "qreg qr[4];\n",
      "creg cr[4];\n",
      "ccx qr[0],qr[1],qr[2];\n",
      "cx qr[0],qr[3];\n",
      "cx qr[1],qr[3];\n",
      "measure qr[0] -> cr[3];\n",
      "measure qr[1] -> cr[2];\n",
      "measure qr[2] -> cr[1];\n",
      "measure qr[3] -> cr[0];\n",
      "\n"
     ]
    }
   ],
   "source": [
    "# AND gate from Qbit 0 to the Qbit 1 and 2\n",
    "circuit.ccx(quantum_r[0], quantum_r[1], quantum_r[2])\n",
    "\n",
    "# XOR gate from Qbit 0 to the Qbit 3\n",
    "circuit.cx(quantum_r[0], quantum_r[3])\n",
    "\n",
    "# XOR gate from Qbit 1 to the Qbit 3\n",
    "circuit.cx(quantum_r[1], quantum_r[3])\n",
    "\n",
    "# measure gate from the Qbit 0 to Classical bit 3\n",
    "circuit.measure(quantum_r[0], classical_r[3]) \n",
    "\n",
    "# measure gate from the Qbit 1 to Classical bit 2\n",
    "circuit.measure(quantum_r[1], classical_r[2])\n",
    "\n",
    "# measure gate from the Qbit 2 to Classical bit 1\n",
    "circuit.measure(quantum_r[2], classical_r[1]) \n",
    "\n",
    "# measure gate from the Qbit 3 to Classical bit 0\n",
    "circuit.measure(quantum_r[3], classical_r[0]) \n",
    "\n",
    "QASM_source = Q_program.get_qasm(\"Circuit\")\n",
    "\n",
    "print(QASM_source)"
   ]
  },
  {
   "cell_type": "markdown",
   "metadata": {},
   "source": [
    "## Step3: executing the code"
   ]
  },
  {
   "cell_type": "markdown",
   "metadata": {},
   "source": [
    "Now, we can execute the code and then make it computing the quantum computer in IBM through the cloud. In this step you need your Personal token."
   ]
  },
  {
   "cell_type": "code",
   "execution_count": 15,
   "metadata": {},
   "outputs": [
    {
     "data": {
      "text/plain": [
       "True"
      ]
     },
     "execution_count": 15,
     "metadata": {},
     "output_type": "execute_result"
    }
   ],
   "source": [
    "device = 'simulator' #Backed where execute your program, in this case in the on line simulator \n",
    "circuits = ['Circuit'] #Group of circuits to exec \n",
    "\n",
    "Q_program.set_api(Qconfig.APItoken, Qconfig.config[\"url\"]) \n",
    "#set the APIToken and API url"
   ]
  },
  {
   "cell_type": "markdown",
   "metadata": {},
   "source": [
    "If you get `True`, your computer connets the quantum computer in IBM and you will get the following result."
   ]
  },
  {
   "cell_type": "code",
   "execution_count": 16,
   "metadata": {},
   "outputs": [
    {
     "name": "stdout",
     "output_type": "stream",
     "text": [
      "running on backend: simulator\n",
      "{'status': 'COMPLETED', 'result': 'all done'}\n"
     ]
    }
   ],
   "source": [
    "Q_program.compile(circuits, device) # Compile your program\n",
    "\n",
    "result = Q_program.run(wait=2, timeout=240)\n",
    "\n",
    "print(result)"
   ]
  },
  {
   "cell_type": "markdown",
   "metadata": {},
   "source": [
    "If you obtain the above results, your computation has finished successfully."
   ]
  },
  {
   "cell_type": "code",
   "execution_count": 17,
   "metadata": {},
   "outputs": [
    {
     "data": {
      "text/plain": [
       "{'0000': 1024}"
      ]
     },
     "execution_count": 17,
     "metadata": {},
     "output_type": "execute_result"
    }
   ],
   "source": [
    "Q_program.get_counts(\"Circuit\")"
   ]
  },
  {
   "cell_type": "markdown",
   "metadata": {},
   "source": [
    "=> `0000` means 0+0=00. Since we set four q-registers, the values are put in c-register and display `0000`.\n",
    "\n",
    "Unfortunately, I am not quite sure what `1024` is. (Maybe $2^{10}$ means the probability but not sure.)"
   ]
  },
  {
   "cell_type": "markdown",
   "metadata": {},
   "source": [
    "### The whole part of the code"
   ]
  },
  {
   "cell_type": "code",
   "execution_count": 4,
   "metadata": {},
   "outputs": [
    {
     "name": "stdout",
     "output_type": "stream",
     "text": [
      ">> quantum_registers created: qr 4\n",
      ">> classical_registers created: cr 4\n",
      "OPENQASM 2.0;\n",
      "include \"qelib1.inc\";\n",
      "qreg qr[4];\n",
      "creg cr[4];\n",
      "ccx qr[0],qr[1],qr[2];\n",
      "cx qr[0],qr[3];\n",
      "cx qr[1],qr[3];\n",
      "measure qr[0] -> cr[3];\n",
      "measure qr[1] -> cr[2];\n",
      "measure qr[2] -> cr[1];\n",
      "measure qr[3] -> cr[0];\n",
      "\n",
      "running on backend: simulator\n",
      "{'status': 'COMPLETED', 'result': 'all done'}\n"
     ]
    },
    {
     "data": {
      "text/plain": [
       "{'0000': 1024}"
      ]
     },
     "execution_count": 4,
     "metadata": {},
     "output_type": "execute_result"
    }
   ],
   "source": [
    "# Since Jupyter runs in tutorial directory, you need to raise the directory upto \n",
    "# one level to import qiskit libraries.\n",
    "import sys\n",
    "sys.path.append(\"../\") \n",
    "\n",
    "# ----------------------------------------------\n",
    "# Preparation: q-register, c-register, circuit...\n",
    "# ----------------------------------------------\n",
    "\n",
    "from qiskit import QuantumProgram \n",
    "import Qconfig\n",
    "\n",
    "Q_SPECS = {\n",
    "    \"name\": \"Program-tutorial\",\n",
    "    \"circuits\": [{\n",
    "         \"name\": \"Circuit\",\n",
    "         \"quantum_registers\": [{\n",
    "             \"name\":\"qr\",\n",
    "             \"size\": 4 \n",
    "         }],\n",
    "         \"classical_registers\": [{\n",
    "              \"name\":\"cr\",\n",
    "              \"size\": 4\n",
    "         }]}],\n",
    "}\n",
    "\n",
    "Q_program = QuantumProgram(specs=Q_SPECS)\n",
    "\n",
    "# get the circuit by Name\n",
    "circuit = Q_program.get_circuit(\"Circuit\")\n",
    "\n",
    "# get the Quantum Register by Name\n",
    "quantum_r = Q_program.get_quantum_registers(\"qr\")\n",
    "\n",
    "# get the Classical Register by Name\n",
    "classical_r = Q_program.get_classical_registers('cr')\n",
    "\n",
    "\n",
    "# ----------------------------------------------\n",
    "# Create circuit: 0 + 0\n",
    "# ----------------------------------------------\n",
    "\n",
    "# AND gate from Qbit 0 to the Qbit 1 and 2\n",
    "circuit.ccx(quantum_r[0], quantum_r[1], quantum_r[2])\n",
    "\n",
    "# XOR gate from Qbit 0 to the Qbit 3\n",
    "circuit.cx(quantum_r[0], quantum_r[3])\n",
    "\n",
    "# XOR gate from Qbit 1 to the Qbit 3\n",
    "circuit.cx(quantum_r[1], quantum_r[3])\n",
    "\n",
    "# measure gate from the Qbit 0 to Classical bit 3\n",
    "circuit.measure(quantum_r[0], classical_r[3]) \n",
    "\n",
    "# measure gate from the Qbit 1 to Classical bit 2\n",
    "circuit.measure(quantum_r[1], classical_r[2])\n",
    "\n",
    "# measure gate from the Qbit 2 to Classical bit 1\n",
    "circuit.measure(quantum_r[2], classical_r[1]) \n",
    "\n",
    "# measure gate from the Qbit 3 to Classical bit 0\n",
    "circuit.measure(quantum_r[3], classical_r[0]) \n",
    "\n",
    "QASM_source = Q_program.get_qasm(\"Circuit\")\n",
    "\n",
    "print(QASM_source)\n",
    "\n",
    "# ----------------------------------------------\n",
    "# Output\n",
    "# ----------------------------------------------\n",
    "\n",
    "device = 'simulator' #Backed where execute your program, in this case in the on line simulator \n",
    "circuits = ['Circuit'] #Group of circuits to exec \n",
    "\n",
    "Q_program.set_api(Qconfig.APItoken, Qconfig.config[\"url\"]) \n",
    "#set the APIToken and API url \n",
    "\n",
    "Q_program.compile(circuits, device) # Compile your program\n",
    "\n",
    "result = Q_program.run(wait=2, timeout=240)\n",
    "\n",
    "print(result)\n",
    "\n",
    "Q_program.get_counts(\"Circuit\")"
   ]
  },
  {
   "cell_type": "markdown",
   "metadata": {},
   "source": [
    "## Other examples\n",
    "\n",
    "### 1+0"
   ]
  },
  {
   "cell_type": "markdown",
   "metadata": {},
   "source": [
    "<img src='1+0.png'/>\n",
    "\n",
    "The images are cited from [量子コンピュータで1+1を計算する](http://qiita.com/kjtnk/items/8385052a50e3154d1022) [Japanese]."
   ]
  },
  {
   "cell_type": "code",
   "execution_count": 5,
   "metadata": {},
   "outputs": [
    {
     "name": "stdout",
     "output_type": "stream",
     "text": [
      ">> quantum_registers created: qr 4\n",
      ">> classical_registers created: cr 4\n",
      "OPENQASM 2.0;\n",
      "include \"qelib1.inc\";\n",
      "qreg qr[4];\n",
      "creg cr[4];\n",
      "x qr[0];\n",
      "ccx qr[0],qr[1],qr[2];\n",
      "cx qr[0],qr[3];\n",
      "cx qr[1],qr[3];\n",
      "measure qr[0] -> cr[3];\n",
      "measure qr[1] -> cr[2];\n",
      "measure qr[2] -> cr[1];\n",
      "measure qr[3] -> cr[0];\n",
      "\n",
      "running on backend: simulator\n",
      "{'status': 'COMPLETED', 'result': 'all done'}\n"
     ]
    },
    {
     "data": {
      "text/plain": [
       "{'1001': 1024}"
      ]
     },
     "execution_count": 5,
     "metadata": {},
     "output_type": "execute_result"
    }
   ],
   "source": [
    "# Since Jupyter runs in tutorial directory, you need to raise the directory upto \n",
    "# one level to import qiskit libraries.\n",
    "import sys\n",
    "sys.path.append(\"../\") \n",
    "\n",
    "# ----------------------------------------------\n",
    "# Preparation: q-register, c-register, circuit...\n",
    "# ----------------------------------------------\n",
    "\n",
    "from qiskit import QuantumProgram \n",
    "import Qconfig\n",
    "\n",
    "Q_SPECS = {\n",
    "    \"name\": \"Program-tutorial\",\n",
    "    \"circuits\": [{\n",
    "         \"name\": \"Circuit\",\n",
    "         \"quantum_registers\": [{\n",
    "             \"name\":\"qr\",\n",
    "             \"size\": 4 \n",
    "         }],\n",
    "         \"classical_registers\": [{\n",
    "              \"name\":\"cr\",\n",
    "              \"size\": 4\n",
    "         }]}],\n",
    "}\n",
    "\n",
    "Q_program = QuantumProgram(specs=Q_SPECS)\n",
    "\n",
    "# get the circuit by Name\n",
    "circuit = Q_program.get_circuit(\"Circuit\")\n",
    "\n",
    "# get the Quantum Register by Name\n",
    "quantum_r = Q_program.get_quantum_registers(\"qr\")\n",
    "\n",
    "# get the Classical Register by Name\n",
    "classical_r = Q_program.get_classical_registers('cr')\n",
    "\n",
    "\n",
    "# ----------------------------------------------\n",
    "# Create circuit: 1 + 0\n",
    "# ----------------------------------------------\n",
    "\n",
    "# bit-flip 0 -> 1\n",
    "circuit.x(quantum_r[0])\n",
    "\n",
    "# AND gate from Qbit 0 to the Qbit 1 and 2\n",
    "circuit.ccx(quantum_r[0], quantum_r[1], quantum_r[2])\n",
    "\n",
    "# XOR gate from Qbit 0 to the Qbit 3\n",
    "circuit.cx(quantum_r[0], quantum_r[3])\n",
    "\n",
    "# XOR gate from Qbit 1 to the Qbit 3\n",
    "circuit.cx(quantum_r[1], quantum_r[3])\n",
    "\n",
    "# measure gate from the Qbit 0 to Classical bit 3\n",
    "circuit.measure(quantum_r[0], classical_r[3]) \n",
    "\n",
    "# measure gate from the Qbit 1 to Classical bit 2\n",
    "circuit.measure(quantum_r[1], classical_r[2])\n",
    "\n",
    "# measure gate from the Qbit 2 to Classical bit 1\n",
    "circuit.measure(quantum_r[2], classical_r[1]) \n",
    "\n",
    "# measure gate from the Qbit 3 to Classical bit 0\n",
    "circuit.measure(quantum_r[3], classical_r[0]) \n",
    "\n",
    "QASM_source = Q_program.get_qasm(\"Circuit\")\n",
    "\n",
    "print(QASM_source)\n",
    "\n",
    "# ----------------------------------------------\n",
    "# Output\n",
    "# ----------------------------------------------\n",
    "\n",
    "device = 'simulator' #Backed where execute your program, in this case in the on line simulator \n",
    "circuits = ['Circuit'] #Group of circuits to exec \n",
    "\n",
    "Q_program.set_api(Qconfig.APItoken, Qconfig.config[\"url\"]) \n",
    "#set the APIToken and API url \n",
    "\n",
    "Q_program.compile(circuits, device) # Compile your program\n",
    "\n",
    "result = Q_program.run(wait=2, timeout=240)\n",
    "\n",
    "print(result)\n",
    "\n",
    "Q_program.get_counts(\"Circuit\")"
   ]
  },
  {
   "cell_type": "markdown",
   "metadata": {},
   "source": [
    "You can see `1+0=01`, which means 1+0=1. Note that the output gives the order `cr[3]cr[2]cr[1]cr[0]` as c-register. The difference from the first example is that we added the bit-flip `x` to `quantum_r[0]`. By doing this, `quantum_r[0]` has an initial value, `1`."
   ]
  },
  {
   "cell_type": "markdown",
   "metadata": {},
   "source": [
    "### 1+1"
   ]
  },
  {
   "cell_type": "markdown",
   "metadata": {},
   "source": [
    "<img src='1+1.png'/>"
   ]
  },
  {
   "cell_type": "code",
   "execution_count": 2,
   "metadata": {},
   "outputs": [
    {
     "name": "stdout",
     "output_type": "stream",
     "text": [
      ">> quantum_registers created: qr 4\n",
      ">> classical_registers created: cr 4\n",
      "OPENQASM 2.0;\n",
      "include \"qelib1.inc\";\n",
      "qreg qr[4];\n",
      "creg cr[4];\n",
      "x qr[0];\n",
      "x qr[1];\n",
      "ccx qr[0],qr[1],qr[2];\n",
      "cx qr[0],qr[3];\n",
      "cx qr[1],qr[3];\n",
      "measure qr[0] -> cr[3];\n",
      "measure qr[1] -> cr[2];\n",
      "measure qr[2] -> cr[1];\n",
      "measure qr[3] -> cr[0];\n",
      "\n",
      "running on backend: simulator\n",
      "{'status': 'COMPLETED', 'result': 'all done'}\n"
     ]
    },
    {
     "data": {
      "text/plain": [
       "{'1110': 1024}"
      ]
     },
     "execution_count": 2,
     "metadata": {},
     "output_type": "execute_result"
    }
   ],
   "source": [
    "# Since Jupyter runs in tutorial directory, you need to raise the directory upto \n",
    "# one level to import qiskit libraries.\n",
    "import sys\n",
    "sys.path.append(\"../\") \n",
    "\n",
    "from qiskit import QuantumProgram \n",
    "import Qconfig\n",
    "\n",
    "# ----------------------------------------------\n",
    "# Preparation: q-register, c-register, circuit...\n",
    "# ----------------------------------------------\n",
    "\n",
    "Q_SPECS = {\n",
    "    \"name\": \"Program-tutorial\",\n",
    "    \"circuits\": [{\n",
    "         \"name\": \"Circuit\",\n",
    "         \"quantum_registers\": [{\n",
    "             \"name\":\"qr\",\n",
    "             \"size\": 4 \n",
    "         }],\n",
    "         \"classical_registers\": [{\n",
    "              \"name\":\"cr\",\n",
    "              \"size\": 4\n",
    "         }]}],\n",
    "}\n",
    "\n",
    "Q_program = QuantumProgram(specs=Q_SPECS)\n",
    "\n",
    "# get the circuit by Name\n",
    "circuit = Q_program.get_circuit(\"Circuit\")\n",
    "\n",
    "# get the Quantum Register by Name\n",
    "quantum_r = Q_program.get_quantum_registers(\"qr\")\n",
    "\n",
    "# get the Classical Register by Name\n",
    "classical_r = Q_program.get_classical_registers('cr')\n",
    "\n",
    "# ----------------------------------------------\n",
    "# Create circuit: 1 + 1\n",
    "# ----------------------------------------------\n",
    "\n",
    "# bit-flip 0 -> 1 at Qbit 0\n",
    "circuit.x(quantum_r[0])\n",
    "\n",
    "# bit-flip 0 -> 1 at Qbit 1\n",
    "circuit.x(quantum_r[1])\n",
    "\n",
    "# AND gate from Qbit 0 to the Qbit 1 and 2\n",
    "circuit.ccx(quantum_r[0], quantum_r[1], quantum_r[2])\n",
    "\n",
    "# XOR gate from Qbit 0 to the Qbit 3\n",
    "circuit.cx(quantum_r[0], quantum_r[3])\n",
    "\n",
    "# XOR gate from Qbit 1 to the Qbit 3\n",
    "circuit.cx(quantum_r[1], quantum_r[3])\n",
    "\n",
    "# measure gate from the Qbit 0 to Classical bit 3\n",
    "circuit.measure(quantum_r[0], classical_r[3]) \n",
    "\n",
    "# measure gate from the Qbit 1 to Classical bit 2\n",
    "circuit.measure(quantum_r[1], classical_r[2])\n",
    "\n",
    "# measure gate from the Qbit 2 to Classical bit 1\n",
    "circuit.measure(quantum_r[2], classical_r[1]) \n",
    "\n",
    "# measure gate from the Qbit 3 to Classical bit 0\n",
    "circuit.measure(quantum_r[3], classical_r[0]) \n",
    "\n",
    "QASM_source = Q_program.get_qasm(\"Circuit\")\n",
    "\n",
    "print(QASM_source)\n",
    "\n",
    "# ----------------------------------------------\n",
    "# Output\n",
    "# ----------------------------------------------\n",
    "\n",
    "device = 'simulator' #Backed where execute your program, in this case in the on line simulator \n",
    "circuits = ['Circuit'] #Group of circuits to exec \n",
    "\n",
    "Q_program.set_api(Qconfig.APItoken, Qconfig.config[\"url\"]) \n",
    "#set the APIToken and API url \n",
    "\n",
    "Q_program.compile(circuits, device) # Compile your program\n",
    "\n",
    "result = Q_program.run(wait=2, timeout=240)\n",
    "\n",
    "print(result)\n",
    "\n",
    "Q_program.get_counts(\"Circuit\")"
   ]
  },
  {
   "cell_type": "markdown",
   "metadata": {},
   "source": [
    "We could obtain 1+1=10 (in binary number)! \n",
    "\n",
    "**Note** If you run this code on Jupyter, please execute after clearing the memory. Otherwise, you would carry it out with leaving the bit-flip in the previous computing. "
   ]
  },
  {
   "cell_type": "markdown",
   "metadata": {},
   "source": [
    "## Computing 0 + 0, 1 + 0, 1 + 1 ONCE"
   ]
  },
  {
   "cell_type": "markdown",
   "metadata": {},
   "source": [
    "<img src='00+01+11.png'/>"
   ]
  },
  {
   "cell_type": "code",
   "execution_count": 1,
   "metadata": {},
   "outputs": [
    {
     "name": "stdout",
     "output_type": "stream",
     "text": [
      ">> quantum_registers created: qr 4\n",
      ">> classical_registers created: cr 4\n",
      "OPENQASM 2.0;\n",
      "include \"qelib1.inc\";\n",
      "qreg qr[4];\n",
      "creg cr[4];\n",
      "h qr[0];\n",
      "h qr[1];\n",
      "ccx qr[0],qr[1],qr[2];\n",
      "cx qr[0],qr[3];\n",
      "cx qr[1],qr[3];\n",
      "measure qr[0] -> cr[3];\n",
      "measure qr[1] -> cr[2];\n",
      "measure qr[2] -> cr[1];\n",
      "measure qr[3] -> cr[0];\n",
      "\n",
      "running on backend: simulator\n",
      "{'status': 'COMPLETED', 'result': 'all done'}\n"
     ]
    },
    {
     "data": {
      "text/plain": [
       "{'0000': 233, '0101': 238, '1001': 289, '1110': 264}"
      ]
     },
     "execution_count": 1,
     "metadata": {},
     "output_type": "execute_result"
    }
   ],
   "source": [
    "# Since Jupyter runs in tutorial directory, you need to raise the directory upto \n",
    "# one level to import qiskit libraries.\n",
    "import sys\n",
    "sys.path.append(\"../\") \n",
    "\n",
    "from qiskit import QuantumProgram \n",
    "import Qconfig\n",
    "\n",
    "# ----------------------------------------------\n",
    "# Preparation: q-register, c-register, circuit...\n",
    "# ----------------------------------------------\n",
    "\n",
    "Q_SPECS = {\n",
    "    \"name\": \"Program-tutorial\",\n",
    "    \"circuits\": [{\n",
    "         \"name\": \"Circuit\",\n",
    "         \"quantum_registers\": [{\n",
    "             \"name\":\"qr\",\n",
    "             \"size\": 4 \n",
    "         }],\n",
    "         \"classical_registers\": [{\n",
    "              \"name\":\"cr\",\n",
    "              \"size\": 4\n",
    "         }]}],\n",
    "}\n",
    "\n",
    "Q_program = QuantumProgram(specs=Q_SPECS)\n",
    "\n",
    "# get the circuit by Name\n",
    "circuit = Q_program.get_circuit(\"Circuit\")\n",
    "\n",
    "# get the Quantum Register by Name\n",
    "quantum_r = Q_program.get_quantum_registers(\"qr\")\n",
    "\n",
    "# get the Classical Register by Name\n",
    "classical_r = Q_program.get_classical_registers('cr')\n",
    "\n",
    "# ----------------------------------------------\n",
    "# Create circuit: 1 + 1\n",
    "# ----------------------------------------------\n",
    "\n",
    "# superposition at Qbit 0 and 1\n",
    "circuit.h(quantum_r[0])\n",
    "circuit.h(quantum_r[1])\n",
    "\n",
    "# AND gate from Qbit 0 to the Qbit 1 and 2\n",
    "circuit.ccx(quantum_r[0], quantum_r[1], quantum_r[2])\n",
    "\n",
    "# XOR gate from Qbit 0 to the Qbit 3\n",
    "circuit.cx(quantum_r[0], quantum_r[3])\n",
    "\n",
    "# XOR gate from Qbit 1 to the Qbit 3\n",
    "circuit.cx(quantum_r[1], quantum_r[3])\n",
    "\n",
    "# measure gate from the Qbit 0 to Classical bit 3\n",
    "circuit.measure(quantum_r[0], classical_r[3]) \n",
    "\n",
    "# measure gate from the Qbit 1 to Classical bit 2\n",
    "circuit.measure(quantum_r[1], classical_r[2])\n",
    "\n",
    "# measure gate from the Qbit 2 to Classical bit 1\n",
    "circuit.measure(quantum_r[2], classical_r[1]) \n",
    "\n",
    "# measure gate from the Qbit 3 to Classical bit 0\n",
    "circuit.measure(quantum_r[3], classical_r[0]) \n",
    "\n",
    "QASM_source = Q_program.get_qasm(\"Circuit\")\n",
    "\n",
    "print(QASM_source)\n",
    "\n",
    "# ----------------------------------------------\n",
    "# Output\n",
    "# ----------------------------------------------\n",
    "\n",
    "device = 'simulator' #Backed where execute your program, in this case in the on line simulator \n",
    "circuits = ['Circuit'] #Group of circuits to exec \n",
    "\n",
    "Q_program.set_api(Qconfig.APItoken, Qconfig.config[\"url\"]) \n",
    "#set the APIToken and API url \n",
    "\n",
    "Q_program.compile(circuits, device) # Compile your program\n",
    "\n",
    "result = Q_program.run(wait=2, timeout=240)\n",
    "\n",
    "print(result)\n",
    "\n",
    "Q_program.get_counts(\"Circuit\")"
   ]
  },
  {
   "cell_type": "markdown",
   "metadata": {},
   "source": [
    "I don't need to mention again! We obtained correct results! In this code, we used `circuit.h` instead of `circuit.x` and the superposition of `quantum_r[0]` and `quantum_r[1]`.\n",
    "\n",
    "This is the reason why the processing in the quantum computing is much faster than the normal computer does. The quantum computer enables to carry out several computation paralelly. We have used only four q-register so far and not so big the quantum computer in IBM, but if the one with many q-register is created some day, we could carry out an unimaginable number of computations at the same time!"
   ]
  },
  {
   "cell_type": "markdown",
   "metadata": {},
   "source": [
    "## Summarize\n",
    "\n",
    "This time we have seen how to implement the quantum computation. However, I've not understood the meaning of the code and its theoretical background. What's more, there is few information about them! I wish much people would try IBM Q.\n",
    "\n",
    "Thank you for your reading!"
   ]
  }
 ],
 "metadata": {
  "kernelspec": {
   "display_name": "Python 3",
   "language": "python",
   "name": "python3"
  },
  "language_info": {
   "codemirror_mode": {
    "name": "ipython",
    "version": 3
   },
   "file_extension": ".py",
   "mimetype": "text/x-python",
   "name": "python",
   "nbconvert_exporter": "python",
   "pygments_lexer": "ipython3",
   "version": "3.6.2"
  },
  "toc": {
   "colors": {
    "hover_highlight": "#DAA520",
    "running_highlight": "#FF0000",
    "selected_highlight": "#FFD700"
   },
   "moveMenuLeft": true,
   "nav_menu": {
    "height": "210px",
    "width": "252px"
   },
   "navigate_menu": true,
   "number_sections": true,
   "sideBar": true,
   "threshold": "3",
   "toc_cell": false,
   "toc_section_display": "block",
   "toc_window_display": false,
   "widenNotebook": false
  }
 },
 "nbformat": 4,
 "nbformat_minor": 1
}
